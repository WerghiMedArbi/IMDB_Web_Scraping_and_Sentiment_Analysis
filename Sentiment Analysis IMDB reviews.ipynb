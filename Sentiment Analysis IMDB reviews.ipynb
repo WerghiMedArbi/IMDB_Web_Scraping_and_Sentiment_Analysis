{
 "cells": [
  {
   "cell_type": "code",
   "execution_count": 1,
   "metadata": {},
   "outputs": [
    {
     "name": "stderr",
     "output_type": "stream",
     "text": [
      "[nltk_data] Downloading package punkt to\n",
      "[nltk_data]     C:\\Users\\arbio\\AppData\\Roaming\\nltk_data...\n",
      "[nltk_data]   Package punkt is already up-to-date!\n",
      "[nltk_data] Downloading package stopwords to\n",
      "[nltk_data]     C:\\Users\\arbio\\AppData\\Roaming\\nltk_data...\n",
      "[nltk_data]   Package stopwords is already up-to-date!\n",
      "[nltk_data] Downloading package wordnet to\n",
      "[nltk_data]     C:\\Users\\arbio\\AppData\\Roaming\\nltk_data...\n",
      "[nltk_data]   Package wordnet is already up-to-date!\n"
     ]
    }
   ],
   "source": [
    "import pandas as pd\n",
    "import numpy as np\n",
    "import matplotlib.pyplot as plt\n",
    "import seaborn as sns\n",
    "import re\n",
    "import nltk\n",
    "from collections import Counter\n",
    "nltk.download('punkt')\n",
    "sns.set_style('whitegrid')\n",
    "#for handling stopwords\n",
    "nltk.download('stopwords')\n",
    "nltk.download('wordnet')\n",
    "from nltk.corpus import stopwords\n",
    "\n",
    "sw = set(stopwords.words('english'))\n",
    "# for word lemmatization\n",
    "from nltk.stem import WordNetLemmatizer\n",
    "lemmatizer = WordNetLemmatizer()\n",
    "from sklearn.feature_extraction.text import TfidfVectorizer\n",
    "from sklearn.naive_bayes import MultinomialNB\n",
    "from sklearn.model_selection import train_test_split\n",
    "from sklearn.metrics import accuracy_score , classification_report , confusion_matrix\n"
   ]
  },
  {
   "cell_type": "code",
   "execution_count": 2,
   "metadata": {},
   "outputs": [
    {
     "data": {
      "text/html": [
       "<div>\n",
       "<style scoped>\n",
       "    .dataframe tbody tr th:only-of-type {\n",
       "        vertical-align: middle;\n",
       "    }\n",
       "\n",
       "    .dataframe tbody tr th {\n",
       "        vertical-align: top;\n",
       "    }\n",
       "\n",
       "    .dataframe thead th {\n",
       "        text-align: right;\n",
       "    }\n",
       "</style>\n",
       "<table border=\"1\" class=\"dataframe\">\n",
       "  <thead>\n",
       "    <tr style=\"text-align: right;\">\n",
       "      <th></th>\n",
       "      <th>Titre</th>\n",
       "      <th>Username</th>\n",
       "      <th>Rate</th>\n",
       "      <th>Review</th>\n",
       "      <th>Content</th>\n",
       "    </tr>\n",
       "  </thead>\n",
       "  <tbody>\n",
       "    <tr>\n",
       "      <th>0</th>\n",
       "      <td>The Invisible Man</td>\n",
       "      <td>ccthemovieman-1</td>\n",
       "      <td>\\n\\n\\n\\n\\n\\n6/10\\n</td>\n",
       "      <td>Film Still Holds Up, Is Fun Except For Shriek...</td>\n",
       "      <td>This was great the first time I watched it, bu...</td>\n",
       "    </tr>\n",
       "    <tr>\n",
       "      <th>1</th>\n",
       "      <td>The Invisible Man</td>\n",
       "      <td>The_Void</td>\n",
       "      <td>\\n\\n\\n\\n\\n\\n9/10\\n</td>\n",
       "      <td>Visibly stunning!!!\\n</td>\n",
       "      <td>James Whale is, for good reason, most famous f...</td>\n",
       "    </tr>\n",
       "    <tr>\n",
       "      <th>2</th>\n",
       "      <td>The Invisible Man</td>\n",
       "      <td>TimViper1</td>\n",
       "      <td>\\n\\n\\n\\n\\n\\n10/10\\n</td>\n",
       "      <td>Tremendous!\\n</td>\n",
       "      <td>This is definitely one of the best horror/sci-...</td>\n",
       "    </tr>\n",
       "    <tr>\n",
       "      <th>3</th>\n",
       "      <td>The Invisible Man</td>\n",
       "      <td>perfectbond</td>\n",
       "      <td>\\n\\n\\n\\n\\n\\n8/10\\n</td>\n",
       "      <td>Classic horror\\n</td>\n",
       "      <td>I actually saw The Invisible Man (1933) shortl...</td>\n",
       "    </tr>\n",
       "    <tr>\n",
       "      <th>4</th>\n",
       "      <td>The Invisible Man</td>\n",
       "      <td>theowinthrop</td>\n",
       "      <td>\\n\\n\\n\\n\\n\\n10/10\\n</td>\n",
       "      <td>To make the world grovel at his feet.\\n</td>\n",
       "      <td>Spoiler ahead - a well known one though.It was...</td>\n",
       "    </tr>\n",
       "  </tbody>\n",
       "</table>\n",
       "</div>"
      ],
      "text/plain": [
       "               Titre         Username                 Rate  \\\n",
       "0  The Invisible Man  ccthemovieman-1   \\n\\n\\n\\n\\n\\n6/10\\n   \n",
       "1  The Invisible Man         The_Void   \\n\\n\\n\\n\\n\\n9/10\\n   \n",
       "2  The Invisible Man        TimViper1  \\n\\n\\n\\n\\n\\n10/10\\n   \n",
       "3  The Invisible Man      perfectbond   \\n\\n\\n\\n\\n\\n8/10\\n   \n",
       "4  The Invisible Man     theowinthrop  \\n\\n\\n\\n\\n\\n10/10\\n   \n",
       "\n",
       "                                              Review  \\\n",
       "0   Film Still Holds Up, Is Fun Except For Shriek...   \n",
       "1                              Visibly stunning!!!\\n   \n",
       "2                                      Tremendous!\\n   \n",
       "3                                   Classic horror\\n   \n",
       "4            To make the world grovel at his feet.\\n   \n",
       "\n",
       "                                             Content  \n",
       "0  This was great the first time I watched it, bu...  \n",
       "1  James Whale is, for good reason, most famous f...  \n",
       "2  This is definitely one of the best horror/sci-...  \n",
       "3  I actually saw The Invisible Man (1933) shortl...  \n",
       "4  Spoiler ahead - a well known one though.It was...  "
      ]
     },
     "execution_count": 2,
     "metadata": {},
     "output_type": "execute_result"
    }
   ],
   "source": [
    "#importing the dataset\n",
    "data = pd.read_excel('IMDB_SCRAPING.xlsx')\n",
    "data.head()"
   ]
  },
  {
   "cell_type": "code",
   "execution_count": 3,
   "metadata": {},
   "outputs": [
    {
     "data": {
      "text/plain": [
       "<AxesSubplot:>"
      ]
     },
     "execution_count": 3,
     "metadata": {},
     "output_type": "execute_result"
    },
    {
     "data": {
      "image/png": "[encoded data removed]",
      "text/plain": [
       "<Figure size 1800x720 with 2 Axes>"
      ]
     },
     "metadata": {},
     "output_type": "display_data"
    }
   ],
   "source": [
    "#checking for missing values in the dataset\n",
    "import missingno as msno\n",
    "msno.matrix(data)"
   ]
  },
  {
   "cell_type": "markdown",
   "metadata": {},
   "source": [
    "we can see that username has many empty columns"
   ]
  },
  {
   "cell_type": "code",
   "execution_count": 4,
   "metadata": {},
   "outputs": [
    {
     "data": {
      "text/plain": [
       "(22342, 5)"
      ]
     },
     "execution_count": 4,
     "metadata": {},
     "output_type": "execute_result"
    }
   ],
   "source": [
    "# It seems like it s not that clean at all, we need to check its shape\n",
    "data.shape"
   ]
  },
  {
   "cell_type": "code",
   "execution_count": 5,
   "metadata": {},
   "outputs": [
    {
     "data": {
      "text/html": [
       "<div>\n",
       "<style scoped>\n",
       "    .dataframe tbody tr th:only-of-type {\n",
       "        vertical-align: middle;\n",
       "    }\n",
       "\n",
       "    .dataframe tbody tr th {\n",
       "        vertical-align: top;\n",
       "    }\n",
       "\n",
       "    .dataframe thead th {\n",
       "        text-align: right;\n",
       "    }\n",
       "</style>\n",
       "<table border=\"1\" class=\"dataframe\">\n",
       "  <thead>\n",
       "    <tr style=\"text-align: right;\">\n",
       "      <th></th>\n",
       "      <th>Titre</th>\n",
       "      <th>Username</th>\n",
       "      <th>Rate</th>\n",
       "      <th>Review</th>\n",
       "      <th>Content</th>\n",
       "    </tr>\n",
       "  </thead>\n",
       "  <tbody>\n",
       "    <tr>\n",
       "      <th>903</th>\n",
       "      <td>The Station Agent</td>\n",
       "      <td>NaN</td>\n",
       "      <td>\\n\\n\\n\\n\\n\\n8/10\\n</td>\n",
       "      <td>Size matters\\n</td>\n",
       "      <td>\"The Station Agent\" is a slice-of-dwarf-life c...</td>\n",
       "    </tr>\n",
       "    <tr>\n",
       "      <th>3406</th>\n",
       "      <td>Donnie Brasco</td>\n",
       "      <td>NaN</td>\n",
       "      <td>\\n\\n\\n\\n\\n\\n7/10\\n</td>\n",
       "      <td>Not bad, not great.\\n</td>\n",
       "      <td>\"Donnie Brasco\" tells of an FBI agent (Depp) w...</td>\n",
       "    </tr>\n",
       "    <tr>\n",
       "      <th>3746</th>\n",
       "      <td>The Count of Monte Cristo</td>\n",
       "      <td>NaN</td>\n",
       "      <td>\\n\\n\\n\\n\\n\\n8/10\\n</td>\n",
       "      <td>The Count rides again.\\n</td>\n",
       "      <td>\"The Count of Monte Cristo\" (2002), a contempo...</td>\n",
       "    </tr>\n",
       "    <tr>\n",
       "      <th>7174</th>\n",
       "      <td>Remember the Titans</td>\n",
       "      <td>NaN</td>\n",
       "      <td>\\n\\n\\n\\n\\n\\n7/10\\n</td>\n",
       "      <td>Predictable but solid \"feel good\" football en...</td>\n",
       "      <td>\"Remember the Titans\" tells about a black foot...</td>\n",
       "    </tr>\n",
       "    <tr>\n",
       "      <th>7207</th>\n",
       "      <td>Gongdong gyeongbi guyeok JSA</td>\n",
       "      <td>NaN</td>\n",
       "      <td>\\n\\n\\n\\n\\n\\n6/10\\n</td>\n",
       "      <td>A movie with a latitude\\n</td>\n",
       "      <td>\"Joint Security Area\" takes place entirely at ...</td>\n",
       "    </tr>\n",
       "    <tr>\n",
       "      <th>10310</th>\n",
       "      <td>Once Were Warriors</td>\n",
       "      <td>NaN</td>\n",
       "      <td>\\n\\n\\n\\n\\n\\n8/10\\n</td>\n",
       "      <td>A great film\\n</td>\n",
       "      <td>\"Once Were Warriors\" tells of one woman's stru...</td>\n",
       "    </tr>\n",
       "    <tr>\n",
       "      <th>10543</th>\n",
       "      <td>Almost Famous</td>\n",
       "      <td>NaN</td>\n",
       "      <td>\\n\\n\\n\\n\\n\\n7/10\\n</td>\n",
       "      <td>An enjoyable blend of humor, drama-lite, and ...</td>\n",
       "      <td>\"Almost Famous\" tells of a 15 year old prodigy...</td>\n",
       "    </tr>\n",
       "    <tr>\n",
       "      <th>10604</th>\n",
       "      <td>Nueve reinas</td>\n",
       "      <td>NaN</td>\n",
       "      <td>\\n\\n\\n\\n\\n\\n6/10\\n</td>\n",
       "      <td>Here a scam, there a scam, everywhere a scam-...</td>\n",
       "      <td>Scamming is the name of the game in \"Nine Quee...</td>\n",
       "    </tr>\n",
       "    <tr>\n",
       "      <th>10657</th>\n",
       "      <td>No Man's Land</td>\n",
       "      <td>NaN</td>\n",
       "      <td>\\n\\n\\n\\n\\n\\n6/10\\n</td>\n",
       "      <td>Good journeyman war satire slightly over-tout...</td>\n",
       "      <td>\"No Man's Land\" is a satirical representation ...</td>\n",
       "    </tr>\n",
       "    <tr>\n",
       "      <th>13337</th>\n",
       "      <td>La leggenda del pianista sull'oceano</td>\n",
       "      <td>NaN</td>\n",
       "      <td>\\n\\n\\n\\n\\n\\n8/10\\n</td>\n",
       "      <td>A wonderfully wistful mixture of melodrama an...</td>\n",
       "      <td>\"The Legend of 1900\" wistfully tells its creat...</td>\n",
       "    </tr>\n",
       "  </tbody>\n",
       "</table>\n",
       "</div>"
      ],
      "text/plain": [
       "                                      Titre Username                Rate  \\\n",
       "903                       The Station Agent      NaN  \\n\\n\\n\\n\\n\\n8/10\\n   \n",
       "3406                          Donnie Brasco      NaN  \\n\\n\\n\\n\\n\\n7/10\\n   \n",
       "3746              The Count of Monte Cristo      NaN  \\n\\n\\n\\n\\n\\n8/10\\n   \n",
       "7174                    Remember the Titans      NaN  \\n\\n\\n\\n\\n\\n7/10\\n   \n",
       "7207           Gongdong gyeongbi guyeok JSA      NaN  \\n\\n\\n\\n\\n\\n6/10\\n   \n",
       "10310                    Once Were Warriors      NaN  \\n\\n\\n\\n\\n\\n8/10\\n   \n",
       "10543                         Almost Famous      NaN  \\n\\n\\n\\n\\n\\n7/10\\n   \n",
       "10604                          Nueve reinas      NaN  \\n\\n\\n\\n\\n\\n6/10\\n   \n",
       "10657                         No Man's Land      NaN  \\n\\n\\n\\n\\n\\n6/10\\n   \n",
       "13337  La leggenda del pianista sull'oceano      NaN  \\n\\n\\n\\n\\n\\n8/10\\n   \n",
       "\n",
       "                                                  Review  \\\n",
       "903                                       Size matters\\n   \n",
       "3406                               Not bad, not great.\\n   \n",
       "3746                            The Count rides again.\\n   \n",
       "7174    Predictable but solid \"feel good\" football en...   \n",
       "7207                           A movie with a latitude\\n   \n",
       "10310                                     A great film\\n   \n",
       "10543   An enjoyable blend of humor, drama-lite, and ...   \n",
       "10604   Here a scam, there a scam, everywhere a scam-...   \n",
       "10657   Good journeyman war satire slightly over-tout...   \n",
       "13337   A wonderfully wistful mixture of melodrama an...   \n",
       "\n",
       "                                                 Content  \n",
       "903    \"The Station Agent\" is a slice-of-dwarf-life c...  \n",
       "3406   \"Donnie Brasco\" tells of an FBI agent (Depp) w...  \n",
       "3746   \"The Count of Monte Cristo\" (2002), a contempo...  \n",
       "7174   \"Remember the Titans\" tells about a black foot...  \n",
       "7207   \"Joint Security Area\" takes place entirely at ...  \n",
       "10310  \"Once Were Warriors\" tells of one woman's stru...  \n",
       "10543  \"Almost Famous\" tells of a 15 year old prodigy...  \n",
       "10604  Scamming is the name of the game in \"Nine Quee...  \n",
       "10657  \"No Man's Land\" is a satirical representation ...  \n",
       "13337  \"The Legend of 1900\" wistfully tells its creat...  "
      ]
     },
     "execution_count": 5,
     "metadata": {},
     "output_type": "execute_result"
    }
   ],
   "source": [
    "data.loc[data[\"Username\"].isnull()]"
   ]
  },
  {
   "cell_type": "code",
   "execution_count": 6,
   "metadata": {},
   "outputs": [
    {
     "data": {
      "text/html": [
       "<div>\n",
       "<style scoped>\n",
       "    .dataframe tbody tr th:only-of-type {\n",
       "        vertical-align: middle;\n",
       "    }\n",
       "\n",
       "    .dataframe tbody tr th {\n",
       "        vertical-align: top;\n",
       "    }\n",
       "\n",
       "    .dataframe thead th {\n",
       "        text-align: right;\n",
       "    }\n",
       "</style>\n",
       "<table border=\"1\" class=\"dataframe\">\n",
       "  <thead>\n",
       "    <tr style=\"text-align: right;\">\n",
       "      <th></th>\n",
       "      <th>Titre</th>\n",
       "      <th>Username</th>\n",
       "      <th>Rate</th>\n",
       "      <th>Review</th>\n",
       "      <th>Content</th>\n",
       "    </tr>\n",
       "  </thead>\n",
       "  <tbody>\n",
       "    <tr>\n",
       "      <th>0</th>\n",
       "      <td>The Invisible Man</td>\n",
       "      <td>ccthemovieman-1</td>\n",
       "      <td>\\n\\n\\n\\n\\n\\n6/10\\n</td>\n",
       "      <td>Film Still Holds Up, Is Fun Except For Shriek...</td>\n",
       "      <td>This was great the first time I watched it, bu...</td>\n",
       "    </tr>\n",
       "    <tr>\n",
       "      <th>1</th>\n",
       "      <td>The Invisible Man</td>\n",
       "      <td>The_Void</td>\n",
       "      <td>\\n\\n\\n\\n\\n\\n9/10\\n</td>\n",
       "      <td>Visibly stunning!!!\\n</td>\n",
       "      <td>James Whale is, for good reason, most famous f...</td>\n",
       "    </tr>\n",
       "    <tr>\n",
       "      <th>2</th>\n",
       "      <td>The Invisible Man</td>\n",
       "      <td>TimViper1</td>\n",
       "      <td>\\n\\n\\n\\n\\n\\n10/10\\n</td>\n",
       "      <td>Tremendous!\\n</td>\n",
       "      <td>This is definitely one of the best horror/sci-...</td>\n",
       "    </tr>\n",
       "    <tr>\n",
       "      <th>3</th>\n",
       "      <td>The Invisible Man</td>\n",
       "      <td>perfectbond</td>\n",
       "      <td>\\n\\n\\n\\n\\n\\n8/10\\n</td>\n",
       "      <td>Classic horror\\n</td>\n",
       "      <td>I actually saw The Invisible Man (1933) shortl...</td>\n",
       "    </tr>\n",
       "    <tr>\n",
       "      <th>4</th>\n",
       "      <td>The Invisible Man</td>\n",
       "      <td>theowinthrop</td>\n",
       "      <td>\\n\\n\\n\\n\\n\\n10/10\\n</td>\n",
       "      <td>To make the world grovel at his feet.\\n</td>\n",
       "      <td>Spoiler ahead - a well known one though.It was...</td>\n",
       "    </tr>\n",
       "  </tbody>\n",
       "</table>\n",
       "</div>"
      ],
      "text/plain": [
       "               Titre         Username                 Rate  \\\n",
       "0  The Invisible Man  ccthemovieman-1   \\n\\n\\n\\n\\n\\n6/10\\n   \n",
       "1  The Invisible Man         The_Void   \\n\\n\\n\\n\\n\\n9/10\\n   \n",
       "2  The Invisible Man        TimViper1  \\n\\n\\n\\n\\n\\n10/10\\n   \n",
       "3  The Invisible Man      perfectbond   \\n\\n\\n\\n\\n\\n8/10\\n   \n",
       "4  The Invisible Man     theowinthrop  \\n\\n\\n\\n\\n\\n10/10\\n   \n",
       "\n",
       "                                              Review  \\\n",
       "0   Film Still Holds Up, Is Fun Except For Shriek...   \n",
       "1                              Visibly stunning!!!\\n   \n",
       "2                                      Tremendous!\\n   \n",
       "3                                   Classic horror\\n   \n",
       "4            To make the world grovel at his feet.\\n   \n",
       "\n",
       "                                             Content  \n",
       "0  This was great the first time I watched it, bu...  \n",
       "1  James Whale is, for good reason, most famous f...  \n",
       "2  This is definitely one of the best horror/sci-...  \n",
       "3  I actually saw The Invisible Man (1933) shortl...  \n",
       "4  Spoiler ahead - a well known one though.It was...  "
      ]
     },
     "execution_count": 6,
     "metadata": {},
     "output_type": "execute_result"
    }
   ],
   "source": [
    "df = data.dropna(axis=0,how='any')\n",
    "df.head()"
   ]
  },
  {
   "cell_type": "code",
   "execution_count": 7,
   "metadata": {},
   "outputs": [
    {
     "data": {
      "text/plain": [
       "Titre       0\n",
       "Username    0\n",
       "Rate        0\n",
       "Review      0\n",
       "Content     0\n",
       "dtype: int64"
      ]
     },
     "execution_count": 7,
     "metadata": {},
     "output_type": "execute_result"
    }
   ],
   "source": [
    "df.isnull().sum()"
   ]
  },
  {
   "cell_type": "markdown",
   "metadata": {},
   "source": [
    "let's check if we have any missing data"
   ]
  },
  {
   "cell_type": "code",
   "execution_count": 8,
   "metadata": {},
   "outputs": [
    {
     "data": {
      "text/plain": [
       "<AxesSubplot:>"
      ]
     },
     "execution_count": 8,
     "metadata": {},
     "output_type": "execute_result"
    },
    {
     "data": {
      "image/png": "[encoded data removed]",
      "text/plain": [
       "<Figure size 1800x720 with 3 Axes>"
      ]
     },
     "metadata": {},
     "output_type": "display_data"
    }
   ],
   "source": [
    "msno.bar(df)"
   ]
  },
  {
   "cell_type": "code",
   "execution_count": 9,
   "metadata": {},
   "outputs": [
    {
     "data": {
      "text/plain": [
       "Titre       object\n",
       "Username    object\n",
       "Rate        object\n",
       "Review      object\n",
       "Content     object\n",
       "dtype: object"
      ]
     },
     "execution_count": 9,
     "metadata": {},
     "output_type": "execute_result"
    }
   ],
   "source": [
    "df.dtypes"
   ]
  },
  {
   "cell_type": "code",
   "execution_count": 10,
   "metadata": {},
   "outputs": [],
   "source": [
    "df['Review'] = df['Review'].str.replace('\\n', '')\n",
    "df['Rate'] = df['Rate'].str.replace('\\n', '')\n",
    "df['Rate'] = df['Rate'].str.replace('/10', '')\n",
    "df['Rate'] = df['Rate'].astype(int)"
   ]
  },
  {
   "cell_type": "code",
   "execution_count": 11,
   "metadata": {},
   "outputs": [
    {
     "data": {
      "text/plain": [
       "Titre       object\n",
       "Username    object\n",
       "Rate         int32\n",
       "Review      object\n",
       "Content     object\n",
       "dtype: object"
      ]
     },
     "execution_count": 11,
     "metadata": {},
     "output_type": "execute_result"
    }
   ],
   "source": [
    "df.dtypes"
   ]
  },
  {
   "cell_type": "code",
   "execution_count": 12,
   "metadata": {},
   "outputs": [
    {
     "data": {
      "text/html": [
       "<div>\n",
       "<style scoped>\n",
       "    .dataframe tbody tr th:only-of-type {\n",
       "        vertical-align: middle;\n",
       "    }\n",
       "\n",
       "    .dataframe tbody tr th {\n",
       "        vertical-align: top;\n",
       "    }\n",
       "\n",
       "    .dataframe thead th {\n",
       "        text-align: right;\n",
       "    }\n",
       "</style>\n",
       "<table border=\"1\" class=\"dataframe\">\n",
       "  <thead>\n",
       "    <tr style=\"text-align: right;\">\n",
       "      <th></th>\n",
       "      <th>Titre</th>\n",
       "      <th>Username</th>\n",
       "      <th>Rate</th>\n",
       "      <th>Review</th>\n",
       "      <th>Content</th>\n",
       "    </tr>\n",
       "  </thead>\n",
       "  <tbody>\n",
       "    <tr>\n",
       "      <th>0</th>\n",
       "      <td>The Invisible Man</td>\n",
       "      <td>ccthemovieman-1</td>\n",
       "      <td>6</td>\n",
       "      <td>Film Still Holds Up, Is Fun Except For Shrieker</td>\n",
       "      <td>This was great the first time I watched it, bu...</td>\n",
       "    </tr>\n",
       "    <tr>\n",
       "      <th>1</th>\n",
       "      <td>The Invisible Man</td>\n",
       "      <td>The_Void</td>\n",
       "      <td>9</td>\n",
       "      <td>Visibly stunning!!!</td>\n",
       "      <td>James Whale is, for good reason, most famous f...</td>\n",
       "    </tr>\n",
       "    <tr>\n",
       "      <th>2</th>\n",
       "      <td>The Invisible Man</td>\n",
       "      <td>TimViper1</td>\n",
       "      <td>10</td>\n",
       "      <td>Tremendous!</td>\n",
       "      <td>This is definitely one of the best horror/sci-...</td>\n",
       "    </tr>\n",
       "    <tr>\n",
       "      <th>3</th>\n",
       "      <td>The Invisible Man</td>\n",
       "      <td>perfectbond</td>\n",
       "      <td>8</td>\n",
       "      <td>Classic horror</td>\n",
       "      <td>I actually saw The Invisible Man (1933) shortl...</td>\n",
       "    </tr>\n",
       "    <tr>\n",
       "      <th>4</th>\n",
       "      <td>The Invisible Man</td>\n",
       "      <td>theowinthrop</td>\n",
       "      <td>10</td>\n",
       "      <td>To make the world grovel at his feet.</td>\n",
       "      <td>Spoiler ahead - a well known one though.It was...</td>\n",
       "    </tr>\n",
       "  </tbody>\n",
       "</table>\n",
       "</div>"
      ],
      "text/plain": [
       "               Titre         Username  Rate  \\\n",
       "0  The Invisible Man  ccthemovieman-1     6   \n",
       "1  The Invisible Man         The_Void     9   \n",
       "2  The Invisible Man        TimViper1    10   \n",
       "3  The Invisible Man      perfectbond     8   \n",
       "4  The Invisible Man     theowinthrop    10   \n",
       "\n",
       "                                             Review  \\\n",
       "0   Film Still Holds Up, Is Fun Except For Shrieker   \n",
       "1                               Visibly stunning!!!   \n",
       "2                                       Tremendous!   \n",
       "3                                    Classic horror   \n",
       "4             To make the world grovel at his feet.   \n",
       "\n",
       "                                             Content  \n",
       "0  This was great the first time I watched it, bu...  \n",
       "1  James Whale is, for good reason, most famous f...  \n",
       "2  This is definitely one of the best horror/sci-...  \n",
       "3  I actually saw The Invisible Man (1933) shortl...  \n",
       "4  Spoiler ahead - a well known one though.It was...  "
      ]
     },
     "execution_count": 12,
     "metadata": {},
     "output_type": "execute_result"
    }
   ],
   "source": [
    "df.head()"
   ]
  },
  {
   "cell_type": "code",
   "execution_count": 13,
   "metadata": {},
   "outputs": [],
   "source": [
    "df[\"Sentiment\"] = np.where(df[\"Rate\"]>6, \"positive\" ,\"negative\")"
   ]
  },
  {
   "cell_type": "code",
   "execution_count": 14,
   "metadata": {},
   "outputs": [
    {
     "data": {
      "text/html": [
       "<div>\n",
       "<style scoped>\n",
       "    .dataframe tbody tr th:only-of-type {\n",
       "        vertical-align: middle;\n",
       "    }\n",
       "\n",
       "    .dataframe tbody tr th {\n",
       "        vertical-align: top;\n",
       "    }\n",
       "\n",
       "    .dataframe thead th {\n",
       "        text-align: right;\n",
       "    }\n",
       "</style>\n",
       "<table border=\"1\" class=\"dataframe\">\n",
       "  <thead>\n",
       "    <tr style=\"text-align: right;\">\n",
       "      <th></th>\n",
       "      <th>Titre</th>\n",
       "      <th>Username</th>\n",
       "      <th>Rate</th>\n",
       "      <th>Review</th>\n",
       "      <th>Content</th>\n",
       "      <th>Sentiment</th>\n",
       "    </tr>\n",
       "  </thead>\n",
       "  <tbody>\n",
       "    <tr>\n",
       "      <th>0</th>\n",
       "      <td>The Invisible Man</td>\n",
       "      <td>ccthemovieman-1</td>\n",
       "      <td>6</td>\n",
       "      <td>Film Still Holds Up, Is Fun Except For Shrieker</td>\n",
       "      <td>This was great the first time I watched it, bu...</td>\n",
       "      <td>negative</td>\n",
       "    </tr>\n",
       "    <tr>\n",
       "      <th>1</th>\n",
       "      <td>The Invisible Man</td>\n",
       "      <td>The_Void</td>\n",
       "      <td>9</td>\n",
       "      <td>Visibly stunning!!!</td>\n",
       "      <td>James Whale is, for good reason, most famous f...</td>\n",
       "      <td>positive</td>\n",
       "    </tr>\n",
       "    <tr>\n",
       "      <th>2</th>\n",
       "      <td>The Invisible Man</td>\n",
       "      <td>TimViper1</td>\n",
       "      <td>10</td>\n",
       "      <td>Tremendous!</td>\n",
       "      <td>This is definitely one of the best horror/sci-...</td>\n",
       "      <td>positive</td>\n",
       "    </tr>\n",
       "    <tr>\n",
       "      <th>3</th>\n",
       "      <td>The Invisible Man</td>\n",
       "      <td>perfectbond</td>\n",
       "      <td>8</td>\n",
       "      <td>Classic horror</td>\n",
       "      <td>I actually saw The Invisible Man (1933) shortl...</td>\n",
       "      <td>positive</td>\n",
       "    </tr>\n",
       "    <tr>\n",
       "      <th>4</th>\n",
       "      <td>The Invisible Man</td>\n",
       "      <td>theowinthrop</td>\n",
       "      <td>10</td>\n",
       "      <td>To make the world grovel at his feet.</td>\n",
       "      <td>Spoiler ahead - a well known one though.It was...</td>\n",
       "      <td>positive</td>\n",
       "    </tr>\n",
       "    <tr>\n",
       "      <th>...</th>\n",
       "      <td>...</td>\n",
       "      <td>...</td>\n",
       "      <td>...</td>\n",
       "      <td>...</td>\n",
       "      <td>...</td>\n",
       "      <td>...</td>\n",
       "    </tr>\n",
       "    <tr>\n",
       "      <th>22337</th>\n",
       "      <td>The Shawshank Redemption</td>\n",
       "      <td>sicurrie</td>\n",
       "      <td>1</td>\n",
       "      <td>Am i missing something??</td>\n",
       "      <td>The basic story for this dreadful movie is And...</td>\n",
       "      <td>negative</td>\n",
       "    </tr>\n",
       "    <tr>\n",
       "      <th>22338</th>\n",
       "      <td>The Shawshank Redemption</td>\n",
       "      <td>Hollywd-2</td>\n",
       "      <td>1</td>\n",
       "      <td>Not the greatest movie of all time</td>\n",
       "      <td>Shawshank is nothing more than a fairy tale.  ...</td>\n",
       "      <td>negative</td>\n",
       "    </tr>\n",
       "    <tr>\n",
       "      <th>22339</th>\n",
       "      <td>The Shawshank Redemption</td>\n",
       "      <td>RichBuck</td>\n",
       "      <td>1</td>\n",
       "      <td>Most Overrated Film of All Time</td>\n",
       "      <td>Sorry folks but this movie is a C movie and no...</td>\n",
       "      <td>negative</td>\n",
       "    </tr>\n",
       "    <tr>\n",
       "      <th>22340</th>\n",
       "      <td>The Shawshank Redemption</td>\n",
       "      <td>Discern</td>\n",
       "      <td>1</td>\n",
       "      <td>After a big buildup, a real disappointment</td>\n",
       "      <td>After reading all the rave reviews for this mo...</td>\n",
       "      <td>negative</td>\n",
       "    </tr>\n",
       "    <tr>\n",
       "      <th>22341</th>\n",
       "      <td>The Shawshank Redemption</td>\n",
       "      <td>lukemccaine</td>\n",
       "      <td>1</td>\n",
       "      <td>The plain &amp; simple truth. It doesn't deserve ...</td>\n",
       "      <td>just read the title. Tough I think it's a pret...</td>\n",
       "      <td>negative</td>\n",
       "    </tr>\n",
       "  </tbody>\n",
       "</table>\n",
       "<p>22332 rows × 6 columns</p>\n",
       "</div>"
      ],
      "text/plain": [
       "                          Titre         Username  Rate  \\\n",
       "0             The Invisible Man  ccthemovieman-1     6   \n",
       "1             The Invisible Man         The_Void     9   \n",
       "2             The Invisible Man        TimViper1    10   \n",
       "3             The Invisible Man      perfectbond     8   \n",
       "4             The Invisible Man     theowinthrop    10   \n",
       "...                         ...              ...   ...   \n",
       "22337  The Shawshank Redemption         sicurrie     1   \n",
       "22338  The Shawshank Redemption        Hollywd-2     1   \n",
       "22339  The Shawshank Redemption         RichBuck     1   \n",
       "22340  The Shawshank Redemption          Discern     1   \n",
       "22341  The Shawshank Redemption      lukemccaine     1   \n",
       "\n",
       "                                                  Review  \\\n",
       "0        Film Still Holds Up, Is Fun Except For Shrieker   \n",
       "1                                    Visibly stunning!!!   \n",
       "2                                            Tremendous!   \n",
       "3                                         Classic horror   \n",
       "4                  To make the world grovel at his feet.   \n",
       "...                                                  ...   \n",
       "22337                           Am i missing something??   \n",
       "22338                 Not the greatest movie of all time   \n",
       "22339                    Most Overrated Film of All Time   \n",
       "22340         After a big buildup, a real disappointment   \n",
       "22341   The plain & simple truth. It doesn't deserve ...   \n",
       "\n",
       "                                                 Content Sentiment  \n",
       "0      This was great the first time I watched it, bu...  negative  \n",
       "1      James Whale is, for good reason, most famous f...  positive  \n",
       "2      This is definitely one of the best horror/sci-...  positive  \n",
       "3      I actually saw The Invisible Man (1933) shortl...  positive  \n",
       "4      Spoiler ahead - a well known one though.It was...  positive  \n",
       "...                                                  ...       ...  \n",
       "22337  The basic story for this dreadful movie is And...  negative  \n",
       "22338  Shawshank is nothing more than a fairy tale.  ...  negative  \n",
       "22339  Sorry folks but this movie is a C movie and no...  negative  \n",
       "22340  After reading all the rave reviews for this mo...  negative  \n",
       "22341  just read the title. Tough I think it's a pret...  negative  \n",
       "\n",
       "[22332 rows x 6 columns]"
      ]
     },
     "execution_count": 14,
     "metadata": {},
     "output_type": "execute_result"
    }
   ],
   "source": [
    "df"
   ]
  },
  {
   "cell_type": "code",
   "execution_count": 15,
   "metadata": {},
   "outputs": [
    {
     "data": {
      "text/html": [
       "<div>\n",
       "<style scoped>\n",
       "    .dataframe tbody tr th:only-of-type {\n",
       "        vertical-align: middle;\n",
       "    }\n",
       "\n",
       "    .dataframe tbody tr th {\n",
       "        vertical-align: top;\n",
       "    }\n",
       "\n",
       "    .dataframe thead th {\n",
       "        text-align: right;\n",
       "    }\n",
       "</style>\n",
       "<table border=\"1\" class=\"dataframe\">\n",
       "  <thead>\n",
       "    <tr style=\"text-align: right;\">\n",
       "      <th></th>\n",
       "      <th>Content</th>\n",
       "      <th>Sentiment</th>\n",
       "    </tr>\n",
       "  </thead>\n",
       "  <tbody>\n",
       "    <tr>\n",
       "      <th>0</th>\n",
       "      <td>This was great the first time I watched it, bu...</td>\n",
       "      <td>negative</td>\n",
       "    </tr>\n",
       "    <tr>\n",
       "      <th>1</th>\n",
       "      <td>James Whale is, for good reason, most famous f...</td>\n",
       "      <td>positive</td>\n",
       "    </tr>\n",
       "    <tr>\n",
       "      <th>2</th>\n",
       "      <td>This is definitely one of the best horror/sci-...</td>\n",
       "      <td>positive</td>\n",
       "    </tr>\n",
       "    <tr>\n",
       "      <th>3</th>\n",
       "      <td>I actually saw The Invisible Man (1933) shortl...</td>\n",
       "      <td>positive</td>\n",
       "    </tr>\n",
       "    <tr>\n",
       "      <th>4</th>\n",
       "      <td>Spoiler ahead - a well known one though.It was...</td>\n",
       "      <td>positive</td>\n",
       "    </tr>\n",
       "  </tbody>\n",
       "</table>\n",
       "</div>"
      ],
      "text/plain": [
       "                                             Content Sentiment\n",
       "0  This was great the first time I watched it, bu...  negative\n",
       "1  James Whale is, for good reason, most famous f...  positive\n",
       "2  This is definitely one of the best horror/sci-...  positive\n",
       "3  I actually saw The Invisible Man (1933) shortl...  positive\n",
       "4  Spoiler ahead - a well known one though.It was...  positive"
      ]
     },
     "execution_count": 15,
     "metadata": {},
     "output_type": "execute_result"
    }
   ],
   "source": [
    "#dropping the columns which are not required for our model building\n",
    "drop_cols = ['Titre','Username','Rate','Review']\n",
    "df.drop(drop_cols,axis=1,inplace=True)\n",
    "df.head()"
   ]
  },
  {
   "cell_type": "code",
   "execution_count": 16,
   "metadata": {},
   "outputs": [
    {
     "data": {
      "text/plain": [
       "positive    11913\n",
       "negative    10419\n",
       "Name: Sentiment, dtype: int64"
      ]
     },
     "execution_count": 16,
     "metadata": {},
     "output_type": "execute_result"
    }
   ],
   "source": [
    "df['Sentiment'].value_counts()"
   ]
  },
  {
   "cell_type": "code",
   "execution_count": 17,
   "metadata": {},
   "outputs": [
    {
     "data": {
      "text/plain": [
       "<matplotlib.legend.Legend at 0x20cdb764700>"
      ]
     },
     "execution_count": 17,
     "metadata": {},
     "output_type": "execute_result"
    },
    {
     "data": {
      "image/png": "[encoded data removed]",
      "text/plain": [
       "<Figure size 432x288 with 1 Axes>"
      ]
     },
     "metadata": {},
     "output_type": "display_data"
    }
   ],
   "source": [
    "plt.pie(df['Sentiment'].value_counts(),labels=df['Sentiment'].value_counts().index,shadow=True,startangle=90,explode=[0,0.1])\n",
    "plt.title('Distribution of Sentiment ')\n",
    "plt.legend()"
   ]
  },
  {
   "cell_type": "code",
   "execution_count": 18,
   "metadata": {},
   "outputs": [
    {
     "data": {
      "text/plain": [
       "<AxesSubplot:xlabel='Sentiment', ylabel='Count'>"
      ]
     },
     "execution_count": 18,
     "metadata": {},
     "output_type": "execute_result"
    },
    {
     "data": {
      "image/png": "[encoded data removed]",
      "text/plain": [
       "<Figure size 1080x864 with 1 Axes>"
      ]
     },
     "metadata": {},
     "output_type": "display_data"
    }
   ],
   "source": [
    "plt.figure(figsize = (15, 12))\n",
    "sns.histplot(x=df[\"Sentiment\"], data = df)"
   ]
  },
  {
   "cell_type": "markdown",
   "metadata": {},
   "source": [
    "# Text preprocessing and vectorization using TF-IDF Vectorizer\n"
   ]
  },
  {
   "cell_type": "code",
   "execution_count": 19,
   "metadata": {},
   "outputs": [],
   "source": [
    "#cleaning and preprocessing the the text data\n",
    "def preprocesstext(data):\n",
    "    #converting all the words into lowercase\n",
    "    data = data.lower()\n",
    "    #removing html tags\n",
    "    data = re.sub('<.*?>',\"\",data)\n",
    "    #to remove any punctuations\n",
    "    data = re.sub('\\W+',\" \",data)\n",
    "    #removing numericals from the text data (such as '1947','19th' century)\n",
    "    data = re.sub('\\d+[a-z]*',\"\",data)\n",
    "    #removing any extraspaces from the data\n",
    "    data = re.sub('  +',\" \",data)\n",
    "    # tokenizing the textdata\n",
    "    data = nltk.word_tokenize(data)\n",
    "    # removing the stopwords\n",
    "    data = [word for word in data if word not in sw]\n",
    "    # lemmatizing the words\n",
    "    data = [lemmatizer.lemmatize(word) for word in data]\n",
    "    # removing words which have length less than 2\n",
    "    data = [word for word in data if len(word)>2]\n",
    "    tokens.extend(data)\n",
    "    corpus.append(' '.join(data))\n",
    "    return ' '.join(data)"
   ]
  },
  {
   "cell_type": "code",
   "execution_count": 20,
   "metadata": {},
   "outputs": [],
   "source": [
    "tokens=[]\n",
    "corpus=[]\n",
    "for i in range(len(df)):\n",
    "    df['Content'].iloc[i]=preprocesstext(df['Content'].iloc[i])\n"
   ]
  },
  {
   "cell_type": "code",
   "execution_count": 21,
   "metadata": {},
   "outputs": [
    {
     "data": {
      "text/html": [
       "<div>\n",
       "<style scoped>\n",
       "    .dataframe tbody tr th:only-of-type {\n",
       "        vertical-align: middle;\n",
       "    }\n",
       "\n",
       "    .dataframe tbody tr th {\n",
       "        vertical-align: top;\n",
       "    }\n",
       "\n",
       "    .dataframe thead th {\n",
       "        text-align: right;\n",
       "    }\n",
       "</style>\n",
       "<table border=\"1\" class=\"dataframe\">\n",
       "  <thead>\n",
       "    <tr style=\"text-align: right;\">\n",
       "      <th></th>\n",
       "      <th>Content</th>\n",
       "      <th>Sentiment</th>\n",
       "    </tr>\n",
       "  </thead>\n",
       "  <tbody>\n",
       "    <tr>\n",
       "      <th>0</th>\n",
       "      <td>great first time watched slowly declined multi...</td>\n",
       "      <td>negative</td>\n",
       "    </tr>\n",
       "    <tr>\n",
       "      <th>1</th>\n",
       "      <td>james whale good reason famous frankenstein fi...</td>\n",
       "      <td>positive</td>\n",
       "    </tr>\n",
       "    <tr>\n",
       "      <th>2</th>\n",
       "      <td>definitely one best horror sci movie time spec...</td>\n",
       "      <td>positive</td>\n",
       "    </tr>\n",
       "    <tr>\n",
       "      <th>3</th>\n",
       "      <td>actually saw invisible man shortly saw james w...</td>\n",
       "      <td>positive</td>\n",
       "    </tr>\n",
       "    <tr>\n",
       "      <th>4</th>\n",
       "      <td>spoiler ahead well known one though first majo...</td>\n",
       "      <td>positive</td>\n",
       "    </tr>\n",
       "    <tr>\n",
       "      <th>...</th>\n",
       "      <td>...</td>\n",
       "      <td>...</td>\n",
       "    </tr>\n",
       "    <tr>\n",
       "      <th>22337</th>\n",
       "      <td>basic story dreadful movie andy dufresne young...</td>\n",
       "      <td>negative</td>\n",
       "    </tr>\n",
       "    <tr>\n",
       "      <th>22338</th>\n",
       "      <td>shawshank nothing fairy tale tell much prison ...</td>\n",
       "      <td>negative</td>\n",
       "    </tr>\n",
       "    <tr>\n",
       "      <th>22339</th>\n",
       "      <td>sorry folk movie movie believe people like mov...</td>\n",
       "      <td>negative</td>\n",
       "    </tr>\n",
       "    <tr>\n",
       "      <th>22340</th>\n",
       "      <td>reading rave review movie turned real disappoi...</td>\n",
       "      <td>negative</td>\n",
       "    </tr>\n",
       "    <tr>\n",
       "      <th>22341</th>\n",
       "      <td>read title tough think pretty decent movie goo...</td>\n",
       "      <td>negative</td>\n",
       "    </tr>\n",
       "  </tbody>\n",
       "</table>\n",
       "<p>22332 rows × 2 columns</p>\n",
       "</div>"
      ],
      "text/plain": [
       "                                                 Content Sentiment\n",
       "0      great first time watched slowly declined multi...  negative\n",
       "1      james whale good reason famous frankenstein fi...  positive\n",
       "2      definitely one best horror sci movie time spec...  positive\n",
       "3      actually saw invisible man shortly saw james w...  positive\n",
       "4      spoiler ahead well known one though first majo...  positive\n",
       "...                                                  ...       ...\n",
       "22337  basic story dreadful movie andy dufresne young...  negative\n",
       "22338  shawshank nothing fairy tale tell much prison ...  negative\n",
       "22339  sorry folk movie movie believe people like mov...  negative\n",
       "22340  reading rave review movie turned real disappoi...  negative\n",
       "22341  read title tough think pretty decent movie goo...  negative\n",
       "\n",
       "[22332 rows x 2 columns]"
      ]
     },
     "execution_count": 21,
     "metadata": {},
     "output_type": "execute_result"
    }
   ],
   "source": [
    "df"
   ]
  },
  {
   "cell_type": "code",
   "execution_count": 22,
   "metadata": {},
   "outputs": [
    {
     "data": {
      "text/plain": [
       "3322963"
      ]
     },
     "execution_count": 22,
     "metadata": {},
     "output_type": "execute_result"
    }
   ],
   "source": [
    "len(tokens)"
   ]
  },
  {
   "cell_type": "markdown",
   "metadata": {},
   "source": [
    "! now our data is ready after removing punctuations , stopwords and lemmatized\n"
   ]
  },
  {
   "cell_type": "markdown",
   "metadata": {},
   "source": [
    "# Sentiment analysis"
   ]
  },
  {
   "cell_type": "code",
   "execution_count": 23,
   "metadata": {},
   "outputs": [
    {
     "data": {
      "text/html": [
       "<div>\n",
       "<style scoped>\n",
       "    .dataframe tbody tr th:only-of-type {\n",
       "        vertical-align: middle;\n",
       "    }\n",
       "\n",
       "    .dataframe tbody tr th {\n",
       "        vertical-align: top;\n",
       "    }\n",
       "\n",
       "    .dataframe thead th {\n",
       "        text-align: right;\n",
       "    }\n",
       "</style>\n",
       "<table border=\"1\" class=\"dataframe\">\n",
       "  <thead>\n",
       "    <tr style=\"text-align: right;\">\n",
       "      <th></th>\n",
       "      <th>Count</th>\n",
       "    </tr>\n",
       "  </thead>\n",
       "  <tbody>\n",
       "    <tr>\n",
       "      <th>film</th>\n",
       "      <td>63388</td>\n",
       "    </tr>\n",
       "    <tr>\n",
       "      <th>movie</th>\n",
       "      <td>58707</td>\n",
       "    </tr>\n",
       "    <tr>\n",
       "      <th>one</th>\n",
       "      <td>31020</td>\n",
       "    </tr>\n",
       "    <tr>\n",
       "      <th>like</th>\n",
       "      <td>21511</td>\n",
       "    </tr>\n",
       "    <tr>\n",
       "      <th>character</th>\n",
       "      <td>20427</td>\n",
       "    </tr>\n",
       "    <tr>\n",
       "      <th>...</th>\n",
       "      <td>...</td>\n",
       "    </tr>\n",
       "    <tr>\n",
       "      <th>divider</th>\n",
       "      <td>1</td>\n",
       "    </tr>\n",
       "    <tr>\n",
       "      <th>jlt</th>\n",
       "      <td>1</td>\n",
       "    </tr>\n",
       "    <tr>\n",
       "      <th>unorganic</th>\n",
       "      <td>1</td>\n",
       "    </tr>\n",
       "    <tr>\n",
       "      <th>detaining</th>\n",
       "      <td>1</td>\n",
       "    </tr>\n",
       "    <tr>\n",
       "      <th>valuation</th>\n",
       "      <td>1</td>\n",
       "    </tr>\n",
       "  </tbody>\n",
       "</table>\n",
       "<p>64770 rows × 1 columns</p>\n",
       "</div>"
      ],
      "text/plain": [
       "           Count\n",
       "film       63388\n",
       "movie      58707\n",
       "one        31020\n",
       "like       21511\n",
       "character  20427\n",
       "...          ...\n",
       "divider        1\n",
       "jlt            1\n",
       "unorganic      1\n",
       "detaining      1\n",
       "valuation      1\n",
       "\n",
       "[64770 rows x 1 columns]"
      ]
     },
     "execution_count": 23,
     "metadata": {},
     "output_type": "execute_result"
    }
   ],
   "source": [
    "words=Counter(tokens)\n",
    "wordscount = pd.DataFrame(words.values(),index=words.keys(),columns=['Count'])\n",
    "wordscount.sort_values(by='Count',ascending=False,inplace=True)\n",
    "wordscount"
   ]
  },
  {
   "cell_type": "code",
   "execution_count": 24,
   "metadata": {},
   "outputs": [
    {
     "data": {
      "text/plain": [
       "Text(0.5, 1.0, 'most Frequently used Words')"
      ]
     },
     "execution_count": 24,
     "metadata": {},
     "output_type": "execute_result"
    },
    {
     "data": {
      "image/png": "[encoded data removed]",
      "text/plain": [
       "<Figure size 1440x1440 with 1 Axes>"
      ]
     },
     "metadata": {},
     "output_type": "display_data"
    }
   ],
   "source": [
    "#Checking for the most frequently used word in our dataset\n",
    "plt.figure(figsize=(20,20))\n",
    "plt.barh(width=wordscount['Count'][:50],y=wordscount.index[:50])\n",
    "plt.title('most Frequently used Words')"
   ]
  },
  {
   "cell_type": "markdown",
   "metadata": {},
   "source": [
    "! Movie and film are the most frequently used word in the corpus"
   ]
  },
  {
   "cell_type": "markdown",
   "metadata": {},
   "source": [
    "# Using tf-idf vectorizer to create word embeddings"
   ]
  },
  {
   "cell_type": "code",
   "execution_count": 25,
   "metadata": {},
   "outputs": [],
   "source": [
    "#applying TF-IDF\n",
    "vec=TfidfVectorizer()\n",
    "vec.fit(corpus)\n",
    "X = vec.transform(corpus)"
   ]
  },
  {
   "cell_type": "code",
   "execution_count": 26,
   "metadata": {},
   "outputs": [],
   "source": [
    "#mapping negative values as 0 and positive values as 1\n",
    "labelmap = {'negative':0,'positive':1}\n",
    "y = df['Sentiment'].map(labelmap)"
   ]
  },
  {
   "cell_type": "code",
   "execution_count": 27,
   "metadata": {},
   "outputs": [],
   "source": [
    "#creating test and train split\n",
    "x_train , x_test , y_train,y_test = train_test_split(X,y,test_size=0.1,random_state=123,shuffle=True)\n"
   ]
  },
  {
   "cell_type": "markdown",
   "metadata": {},
   "source": [
    "# 1. MULTINOMIAL Naïve Bayes Model"
   ]
  },
  {
   "cell_type": "code",
   "execution_count": 28,
   "metadata": {},
   "outputs": [
    {
     "data": {
      "text/plain": [
       "MultinomialNB(alpha=3)"
      ]
     },
     "execution_count": 28,
     "metadata": {},
     "output_type": "execute_result"
    }
   ],
   "source": [
    "model= MultinomialNB(alpha=3)\n",
    "model.fit(x_train,y_train)"
   ]
  },
  {
   "cell_type": "code",
   "execution_count": 29,
   "metadata": {},
   "outputs": [],
   "source": [
    "#predicting for test data\n",
    "y_pred = model.predict(x_test)"
   ]
  },
  {
   "cell_type": "code",
   "execution_count": 30,
   "metadata": {},
   "outputs": [
    {
     "name": "stdout",
     "output_type": "stream",
     "text": [
      "Test accuracy 0.8012533572068039\n"
     ]
    }
   ],
   "source": [
    "print('Test accuracy',accuracy_score(y_test,y_pred))"
   ]
  },
  {
   "cell_type": "code",
   "execution_count": 31,
   "metadata": {},
   "outputs": [
    {
     "name": "stdout",
     "output_type": "stream",
     "text": [
      "                 precision    recall  f1-score   support\n",
      "\n",
      "negative review       0.97      0.58      0.72      1010\n",
      "positive review       0.74      0.98      0.84      1224\n",
      "\n",
      "       accuracy                           0.80      2234\n",
      "      macro avg       0.85      0.78      0.78      2234\n",
      "   weighted avg       0.84      0.80      0.79      2234\n",
      "\n"
     ]
    }
   ],
   "source": [
    "#classification report for negative and positive reviews\n",
    "print(classification_report(y_test,y_pred,target_names=['negative review','positive review']))\n",
    "  "
   ]
  },
  {
   "cell_type": "code",
   "execution_count": 32,
   "metadata": {},
   "outputs": [
    {
     "data": {
      "text/plain": [
       "Text(0.5, 1.0, 'Confusion Matrix')"
      ]
     },
     "execution_count": 32,
     "metadata": {},
     "output_type": "execute_result"
    },
    {
     "data": {
      "image/png": "[encoded data removed]",
      "text/plain": [
       "<Figure size 360x288 with 2 Axes>"
      ]
     },
     "metadata": {},
     "output_type": "display_data"
    }
   ],
   "source": [
    "plt.figure(figsize=(5,4))\n",
    "sns.heatmap(confusion_matrix(y_test,y_pred),annot=True,fmt='.2f')\n",
    "plt.title('Confusion Matrix')"
   ]
  },
  {
   "cell_type": "markdown",
   "metadata": {},
   "source": [
    "We have obtained a accuracy of 80.12% which is impressive\n"
   ]
  },
  {
   "cell_type": "markdown",
   "metadata": {},
   "source": [
    "The model is predicting well for both the classes with good precision and recall scores"
   ]
  },
  {
   "cell_type": "markdown",
   "metadata": {},
   "source": [
    "# ANOTHER METHOD USING ANOTHER MODEL"
   ]
  },
  {
   "cell_type": "markdown",
   "metadata": {},
   "source": [
    "Read in Libraries and Data + NLTK Basics"
   ]
  },
  {
   "cell_type": "code",
   "execution_count": 33,
   "metadata": {},
   "outputs": [],
   "source": [
    "# Necessary Imports\n",
    "import pandas as pd\n",
    "import nltk\n",
    "from nltk.sentiment import SentimentIntensityAnalyzer\n",
    "from tqdm.notebook import tqdm\n",
    "import seaborn as sns\n",
    "import matplotlib.pyplot as plt\n",
    "from transformers import AutoTokenizer\n",
    "from transformers import AutoModelForSequenceClassification\n",
    "from scipy.special import softmax\n",
    "\n",
    "plt.style.use('ggplot')"
   ]
  },
  {
   "cell_type": "code",
   "execution_count": 34,
   "metadata": {},
   "outputs": [],
   "source": [
    "# Read in Data\n",
    "df = pd.read_excel(\"IMDB_SCRAPING.xlsx\")"
   ]
  },
  {
   "cell_type": "code",
   "execution_count": 35,
   "metadata": {},
   "outputs": [
    {
     "data": {
      "text/html": [
       "<div>\n",
       "<style scoped>\n",
       "    .dataframe tbody tr th:only-of-type {\n",
       "        vertical-align: middle;\n",
       "    }\n",
       "\n",
       "    .dataframe tbody tr th {\n",
       "        vertical-align: top;\n",
       "    }\n",
       "\n",
       "    .dataframe thead th {\n",
       "        text-align: right;\n",
       "    }\n",
       "</style>\n",
       "<table border=\"1\" class=\"dataframe\">\n",
       "  <thead>\n",
       "    <tr style=\"text-align: right;\">\n",
       "      <th></th>\n",
       "      <th>Titre</th>\n",
       "      <th>Username</th>\n",
       "      <th>Rate</th>\n",
       "      <th>Review</th>\n",
       "      <th>Content</th>\n",
       "    </tr>\n",
       "  </thead>\n",
       "  <tbody>\n",
       "    <tr>\n",
       "      <th>0</th>\n",
       "      <td>The Invisible Man</td>\n",
       "      <td>ccthemovieman-1</td>\n",
       "      <td>\\n\\n\\n\\n\\n\\n6/10\\n</td>\n",
       "      <td>Film Still Holds Up, Is Fun Except For Shriek...</td>\n",
       "      <td>This was great the first time I watched it, bu...</td>\n",
       "    </tr>\n",
       "    <tr>\n",
       "      <th>1</th>\n",
       "      <td>The Invisible Man</td>\n",
       "      <td>The_Void</td>\n",
       "      <td>\\n\\n\\n\\n\\n\\n9/10\\n</td>\n",
       "      <td>Visibly stunning!!!\\n</td>\n",
       "      <td>James Whale is, for good reason, most famous f...</td>\n",
       "    </tr>\n",
       "    <tr>\n",
       "      <th>2</th>\n",
       "      <td>The Invisible Man</td>\n",
       "      <td>TimViper1</td>\n",
       "      <td>\\n\\n\\n\\n\\n\\n10/10\\n</td>\n",
       "      <td>Tremendous!\\n</td>\n",
       "      <td>This is definitely one of the best horror/sci-...</td>\n",
       "    </tr>\n",
       "    <tr>\n",
       "      <th>3</th>\n",
       "      <td>The Invisible Man</td>\n",
       "      <td>perfectbond</td>\n",
       "      <td>\\n\\n\\n\\n\\n\\n8/10\\n</td>\n",
       "      <td>Classic horror\\n</td>\n",
       "      <td>I actually saw The Invisible Man (1933) shortl...</td>\n",
       "    </tr>\n",
       "    <tr>\n",
       "      <th>4</th>\n",
       "      <td>The Invisible Man</td>\n",
       "      <td>theowinthrop</td>\n",
       "      <td>\\n\\n\\n\\n\\n\\n10/10\\n</td>\n",
       "      <td>To make the world grovel at his feet.\\n</td>\n",
       "      <td>Spoiler ahead - a well known one though.It was...</td>\n",
       "    </tr>\n",
       "  </tbody>\n",
       "</table>\n",
       "</div>"
      ],
      "text/plain": [
       "               Titre         Username                 Rate  \\\n",
       "0  The Invisible Man  ccthemovieman-1   \\n\\n\\n\\n\\n\\n6/10\\n   \n",
       "1  The Invisible Man         The_Void   \\n\\n\\n\\n\\n\\n9/10\\n   \n",
       "2  The Invisible Man        TimViper1  \\n\\n\\n\\n\\n\\n10/10\\n   \n",
       "3  The Invisible Man      perfectbond   \\n\\n\\n\\n\\n\\n8/10\\n   \n",
       "4  The Invisible Man     theowinthrop  \\n\\n\\n\\n\\n\\n10/10\\n   \n",
       "\n",
       "                                              Review  \\\n",
       "0   Film Still Holds Up, Is Fun Except For Shriek...   \n",
       "1                              Visibly stunning!!!\\n   \n",
       "2                                      Tremendous!\\n   \n",
       "3                                   Classic horror\\n   \n",
       "4            To make the world grovel at his feet.\\n   \n",
       "\n",
       "                                             Content  \n",
       "0  This was great the first time I watched it, bu...  \n",
       "1  James Whale is, for good reason, most famous f...  \n",
       "2  This is definitely one of the best horror/sci-...  \n",
       "3  I actually saw The Invisible Man (1933) shortl...  \n",
       "4  Spoiler ahead - a well known one though.It was...  "
      ]
     },
     "execution_count": 35,
     "metadata": {},
     "output_type": "execute_result"
    }
   ],
   "source": [
    "df.head()"
   ]
  },
  {
   "cell_type": "code",
   "execution_count": 36,
   "metadata": {},
   "outputs": [],
   "source": [
    "df['Review'] = df['Review'].str.replace('\\n', '')\n",
    "df['Rate'] = df['Rate'].str.replace('\\n', '')\n",
    "df['Rate'] = df['Rate'].str.replace('/10', '')\n",
    "df['Rate'] = df['Rate'].astype(int)\n"
   ]
  },
  {
   "cell_type": "code",
   "execution_count": 37,
   "metadata": {},
   "outputs": [
    {
     "data": {
      "text/html": [
       "<div>\n",
       "<style scoped>\n",
       "    .dataframe tbody tr th:only-of-type {\n",
       "        vertical-align: middle;\n",
       "    }\n",
       "\n",
       "    .dataframe tbody tr th {\n",
       "        vertical-align: top;\n",
       "    }\n",
       "\n",
       "    .dataframe thead th {\n",
       "        text-align: right;\n",
       "    }\n",
       "</style>\n",
       "<table border=\"1\" class=\"dataframe\">\n",
       "  <thead>\n",
       "    <tr style=\"text-align: right;\">\n",
       "      <th></th>\n",
       "      <th>Rate</th>\n",
       "      <th>Content</th>\n",
       "      <th>id</th>\n",
       "    </tr>\n",
       "  </thead>\n",
       "  <tbody>\n",
       "    <tr>\n",
       "      <th>0</th>\n",
       "      <td>6</td>\n",
       "      <td>This was great the first time I watched it, bu...</td>\n",
       "      <td>1</td>\n",
       "    </tr>\n",
       "    <tr>\n",
       "      <th>1</th>\n",
       "      <td>9</td>\n",
       "      <td>James Whale is, for good reason, most famous f...</td>\n",
       "      <td>2</td>\n",
       "    </tr>\n",
       "    <tr>\n",
       "      <th>2</th>\n",
       "      <td>10</td>\n",
       "      <td>This is definitely one of the best horror/sci-...</td>\n",
       "      <td>3</td>\n",
       "    </tr>\n",
       "    <tr>\n",
       "      <th>3</th>\n",
       "      <td>8</td>\n",
       "      <td>I actually saw The Invisible Man (1933) shortl...</td>\n",
       "      <td>4</td>\n",
       "    </tr>\n",
       "    <tr>\n",
       "      <th>4</th>\n",
       "      <td>10</td>\n",
       "      <td>Spoiler ahead - a well known one though.It was...</td>\n",
       "      <td>5</td>\n",
       "    </tr>\n",
       "  </tbody>\n",
       "</table>\n",
       "</div>"
      ],
      "text/plain": [
       "   Rate                                            Content  id\n",
       "0     6  This was great the first time I watched it, bu...   1\n",
       "1     9  James Whale is, for good reason, most famous f...   2\n",
       "2    10  This is definitely one of the best horror/sci-...   3\n",
       "3     8  I actually saw The Invisible Man (1933) shortl...   4\n",
       "4    10  Spoiler ahead - a well known one though.It was...   5"
      ]
     },
     "execution_count": 37,
     "metadata": {},
     "output_type": "execute_result"
    }
   ],
   "source": [
    "df[\"id\"] = df.index + 1\n",
    "drop_cols = ['Titre','Username','Review']\n",
    "df.drop(drop_cols,axis=1,inplace=True)\n",
    "df.head()\n",
    "\n",
    "df.head()"
   ]
  },
  {
   "cell_type": "code",
   "execution_count": 38,
   "metadata": {},
   "outputs": [
    {
     "data": {
      "image/png": "[encoded data removed]",
      "text/plain": [
       "<Figure size 720x360 with 1 Axes>"
      ]
     },
     "metadata": {},
     "output_type": "display_data"
    }
   ],
   "source": [
    "# EDA of Stars Given\n",
    "ax = df['Rate'].value_counts().sort_index().plot(kind='bar', title='Review Count by Rate', figsize=(10,5))\n",
    "ax.set_xlabel('Rate')\n",
    "ax.set_ylabel('Count')\n",
    "plt.show()"
   ]
  },
  {
   "cell_type": "markdown",
   "metadata": {},
   "source": [
    "# 2. VADER Sentiment Scoring Model (Valence Aware Dictionary and Sentiment Reasoner)"
   ]
  },
  {
   "cell_type": "code",
   "execution_count": 40,
   "metadata": {},
   "outputs": [
    {
     "name": "stderr",
     "output_type": "stream",
     "text": [
      "[nltk_data] Downloading package vader_lexicon to\n",
      "[nltk_data]     C:\\Users\\arbio\\AppData\\Roaming\\nltk_data...\n",
      "[nltk_data]   Package vader_lexicon is already up-to-date!\n"
     ]
    }
   ],
   "source": [
    "nltk.download('vader_lexicon')\n",
    "sia = SentimentIntensityAnalyzer()"
   ]
  },
  {
   "cell_type": "code",
   "execution_count": 41,
   "metadata": {},
   "outputs": [
    {
     "data": {
      "application/vnd.jupyter.widget-view+json": {
       "model_id": "8243edb651a44178940427881ac7565c",
       "version_major": 2,
       "version_minor": 0
      },
      "text/plain": [
       "HBox(children=(HTML(value=''), FloatProgress(value=0.0, max=22342.0), HTML(value='')))"
      ]
     },
     "metadata": {},
     "output_type": "display_data"
    },
    {
     "name": "stdout",
     "output_type": "stream",
     "text": [
      "\n"
     ]
    }
   ],
   "source": [
    "# Run the polarity score on the entire dataset\n",
    "res = {}\n",
    "for i, row in tqdm(df.iterrows(), total=len(df)):\n",
    "    text = row['Content']\n",
    "    myid = row['id']\n",
    "    res[myid] = sia.polarity_scores(text)"
   ]
  },
  {
   "cell_type": "code",
   "execution_count": 42,
   "metadata": {},
   "outputs": [
    {
     "data": {
      "text/html": [
       "<div>\n",
       "<style scoped>\n",
       "    .dataframe tbody tr th:only-of-type {\n",
       "        vertical-align: middle;\n",
       "    }\n",
       "\n",
       "    .dataframe tbody tr th {\n",
       "        vertical-align: top;\n",
       "    }\n",
       "\n",
       "    .dataframe thead th {\n",
       "        text-align: right;\n",
       "    }\n",
       "</style>\n",
       "<table border=\"1\" class=\"dataframe\">\n",
       "  <thead>\n",
       "    <tr style=\"text-align: right;\">\n",
       "      <th></th>\n",
       "      <th>id</th>\n",
       "      <th>neg</th>\n",
       "      <th>neu</th>\n",
       "      <th>pos</th>\n",
       "      <th>compound</th>\n",
       "      <th>Rate</th>\n",
       "      <th>Content</th>\n",
       "    </tr>\n",
       "  </thead>\n",
       "  <tbody>\n",
       "    <tr>\n",
       "      <th>0</th>\n",
       "      <td>1</td>\n",
       "      <td>0.143</td>\n",
       "      <td>0.674</td>\n",
       "      <td>0.182</td>\n",
       "      <td>0.8353</td>\n",
       "      <td>6</td>\n",
       "      <td>This was great the first time I watched it, bu...</td>\n",
       "    </tr>\n",
       "    <tr>\n",
       "      <th>1</th>\n",
       "      <td>2</td>\n",
       "      <td>0.058</td>\n",
       "      <td>0.776</td>\n",
       "      <td>0.167</td>\n",
       "      <td>0.9945</td>\n",
       "      <td>9</td>\n",
       "      <td>James Whale is, for good reason, most famous f...</td>\n",
       "    </tr>\n",
       "    <tr>\n",
       "      <th>2</th>\n",
       "      <td>3</td>\n",
       "      <td>0.081</td>\n",
       "      <td>0.755</td>\n",
       "      <td>0.164</td>\n",
       "      <td>0.7500</td>\n",
       "      <td>10</td>\n",
       "      <td>This is definitely one of the best horror/sci-...</td>\n",
       "    </tr>\n",
       "    <tr>\n",
       "      <th>3</th>\n",
       "      <td>4</td>\n",
       "      <td>0.015</td>\n",
       "      <td>0.820</td>\n",
       "      <td>0.165</td>\n",
       "      <td>0.9377</td>\n",
       "      <td>8</td>\n",
       "      <td>I actually saw The Invisible Man (1933) shortl...</td>\n",
       "    </tr>\n",
       "    <tr>\n",
       "      <th>4</th>\n",
       "      <td>5</td>\n",
       "      <td>0.132</td>\n",
       "      <td>0.718</td>\n",
       "      <td>0.149</td>\n",
       "      <td>0.5742</td>\n",
       "      <td>10</td>\n",
       "      <td>Spoiler ahead - a well known one though.It was...</td>\n",
       "    </tr>\n",
       "  </tbody>\n",
       "</table>\n",
       "</div>"
      ],
      "text/plain": [
       "   id    neg    neu    pos  compound  Rate  \\\n",
       "0   1  0.143  0.674  0.182    0.8353     6   \n",
       "1   2  0.058  0.776  0.167    0.9945     9   \n",
       "2   3  0.081  0.755  0.164    0.7500    10   \n",
       "3   4  0.015  0.820  0.165    0.9377     8   \n",
       "4   5  0.132  0.718  0.149    0.5742    10   \n",
       "\n",
       "                                             Content  \n",
       "0  This was great the first time I watched it, bu...  \n",
       "1  James Whale is, for good reason, most famous f...  \n",
       "2  This is definitely one of the best horror/sci-...  \n",
       "3  I actually saw The Invisible Man (1933) shortl...  \n",
       "4  Spoiler ahead - a well known one though.It was...  "
      ]
     },
     "execution_count": 42,
     "metadata": {},
     "output_type": "execute_result"
    }
   ],
   "source": [
    "vaders = pd.DataFrame(res).T \n",
    "vaders = vaders.reset_index().rename(columns={'index':'id'})\n",
    "vaders = vaders.merge(df, how='left') \n",
    "\n",
    "vaders.head()"
   ]
  },
  {
   "cell_type": "code",
   "execution_count": 43,
   "metadata": {},
   "outputs": [
    {
     "data": {
      "image/png": "[encoded data removed]",
      "text/plain": [
       "<Figure size 432x288 with 1 Axes>"
      ]
     },
     "metadata": {},
     "output_type": "display_data"
    }
   ],
   "source": [
    "# Plot VADER results\n",
    "ax = sns.barplot(data=vaders, x=\"Rate\", y=\"compound\")\n",
    "ax.set_title(\"Compound Rate by rate review\")\n",
    "plt.show()"
   ]
  },
  {
   "cell_type": "code",
   "execution_count": 44,
   "metadata": {},
   "outputs": [
    {
     "data": {
      "image/png": "[encoded data removed]",
      "text/plain": [
       "<Figure size 1080x360 with 3 Axes>"
      ]
     },
     "metadata": {},
     "output_type": "display_data"
    }
   ],
   "source": [
    "fig, axs = plt.subplots(1, 3, figsize=(15, 5))\n",
    "sns.barplot(data=vaders, x=\"Rate\", y=\"pos\", ax=axs[0])\n",
    "sns.barplot(data=vaders, x=\"Rate\", y=\"neu\", ax=axs[1])\n",
    "sns.barplot(data=vaders, x=\"Rate\", y=\"neg\", ax=axs[2])\n",
    "axs[0].set_title('Positive')\n",
    "axs[1].set_title('Neutral')\n",
    "axs[2].set_title('Negative')\n",
    "plt.tight_layout()\n",
    "plt.show()"
   ]
  }
 ],
 "metadata": {
  "kernelspec": {
   "display_name": "Python 3",
   "language": "python",
   "name": "python3"
  },
  "language_info": {
   "codemirror_mode": {
    "name": "ipython",
    "version": 3
   },
   "file_extension": ".py",
   "mimetype": "text/x-python",
   "name": "python",
   "nbconvert_exporter": "python",
   "pygments_lexer": "ipython3",
   "version": "3.8.5"
  }
 },
 "nbformat": 4,
 "nbformat_minor": 4
}
