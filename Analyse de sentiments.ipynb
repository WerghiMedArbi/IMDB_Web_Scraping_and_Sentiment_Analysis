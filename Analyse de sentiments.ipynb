{
 "cells": [
  {
   "cell_type": "code",
   "execution_count": 1,
   "metadata": {},
   "outputs": [],
   "source": [
    "#pip install torchtext==0.12.0\n",
    "import pandas as pd\n",
    "import numpy as np\n",
    "\n"
   ]
  },
  {
   "cell_type": "code",
   "execution_count": 2,
   "metadata": {},
   "outputs": [
    {
     "data": {
      "text/html": [
       "<div>\n",
       "<style scoped>\n",
       "    .dataframe tbody tr th:only-of-type {\n",
       "        vertical-align: middle;\n",
       "    }\n",
       "\n",
       "    .dataframe tbody tr th {\n",
       "        vertical-align: top;\n",
       "    }\n",
       "\n",
       "    .dataframe thead th {\n",
       "        text-align: right;\n",
       "    }\n",
       "</style>\n",
       "<table border=\"1\" class=\"dataframe\">\n",
       "  <thead>\n",
       "    <tr style=\"text-align: right;\">\n",
       "      <th></th>\n",
       "      <th>Titre</th>\n",
       "      <th>Username</th>\n",
       "      <th>Rate</th>\n",
       "      <th>Review</th>\n",
       "      <th>Content</th>\n",
       "    </tr>\n",
       "  </thead>\n",
       "  <tbody>\n",
       "    <tr>\n",
       "      <th>0</th>\n",
       "      <td>The Invisible Man</td>\n",
       "      <td>ccthemovieman-1</td>\n",
       "      <td>\\n\\n\\n\\n\\n\\n6/10\\n</td>\n",
       "      <td>Film Still Holds Up, Is Fun Except For Shriek...</td>\n",
       "      <td>This was great the first time I watched it, bu...</td>\n",
       "    </tr>\n",
       "    <tr>\n",
       "      <th>1</th>\n",
       "      <td>The Invisible Man</td>\n",
       "      <td>The_Void</td>\n",
       "      <td>\\n\\n\\n\\n\\n\\n9/10\\n</td>\n",
       "      <td>Visibly stunning!!!\\n</td>\n",
       "      <td>James Whale is, for good reason, most famous f...</td>\n",
       "    </tr>\n",
       "    <tr>\n",
       "      <th>2</th>\n",
       "      <td>The Invisible Man</td>\n",
       "      <td>TimViper1</td>\n",
       "      <td>\\n\\n\\n\\n\\n\\n10/10\\n</td>\n",
       "      <td>Tremendous!\\n</td>\n",
       "      <td>This is definitely one of the best horror/sci-...</td>\n",
       "    </tr>\n",
       "    <tr>\n",
       "      <th>3</th>\n",
       "      <td>The Invisible Man</td>\n",
       "      <td>perfectbond</td>\n",
       "      <td>\\n\\n\\n\\n\\n\\n8/10\\n</td>\n",
       "      <td>Classic horror\\n</td>\n",
       "      <td>I actually saw The Invisible Man (1933) shortl...</td>\n",
       "    </tr>\n",
       "    <tr>\n",
       "      <th>4</th>\n",
       "      <td>The Invisible Man</td>\n",
       "      <td>theowinthrop</td>\n",
       "      <td>\\n\\n\\n\\n\\n\\n10/10\\n</td>\n",
       "      <td>To make the world grovel at his feet.\\n</td>\n",
       "      <td>Spoiler ahead - a well known one though.It was...</td>\n",
       "    </tr>\n",
       "  </tbody>\n",
       "</table>\n",
       "</div>"
      ],
      "text/plain": [
       "               Titre         Username                 Rate  \\\n",
       "0  The Invisible Man  ccthemovieman-1   \\n\\n\\n\\n\\n\\n6/10\\n   \n",
       "1  The Invisible Man         The_Void   \\n\\n\\n\\n\\n\\n9/10\\n   \n",
       "2  The Invisible Man        TimViper1  \\n\\n\\n\\n\\n\\n10/10\\n   \n",
       "3  The Invisible Man      perfectbond   \\n\\n\\n\\n\\n\\n8/10\\n   \n",
       "4  The Invisible Man     theowinthrop  \\n\\n\\n\\n\\n\\n10/10\\n   \n",
       "\n",
       "                                              Review  \\\n",
       "0   Film Still Holds Up, Is Fun Except For Shriek...   \n",
       "1                              Visibly stunning!!!\\n   \n",
       "2                                      Tremendous!\\n   \n",
       "3                                   Classic horror\\n   \n",
       "4            To make the world grovel at his feet.\\n   \n",
       "\n",
       "                                             Content  \n",
       "0  This was great the first time I watched it, bu...  \n",
       "1  James Whale is, for good reason, most famous f...  \n",
       "2  This is definitely one of the best horror/sci-...  \n",
       "3  I actually saw The Invisible Man (1933) shortl...  \n",
       "4  Spoiler ahead - a well known one though.It was...  "
      ]
     },
     "execution_count": 2,
     "metadata": {},
     "output_type": "execute_result"
    }
   ],
   "source": [
    "dataframe = pd.read_excel(\"IMDB_SCRAPING.xlsx\")\n",
    "dataframe.head()"
   ]
  },
  {
   "cell_type": "code",
   "execution_count": 3,
   "metadata": {},
   "outputs": [
    {
     "data": {
      "text/plain": [
       "(22342, 5)"
      ]
     },
     "execution_count": 3,
     "metadata": {},
     "output_type": "execute_result"
    }
   ],
   "source": [
    "# It seems like it s not that clean at all, we need to check its shape\n",
    "dataframe.shape"
   ]
  },
  {
   "cell_type": "code",
   "execution_count": 4,
   "metadata": {},
   "outputs": [
    {
     "data": {
      "text/plain": [
       "Titre        0\n",
       "Username    10\n",
       "Rate         0\n",
       "Review       0\n",
       "Content      0\n",
       "dtype: int64"
      ]
     },
     "execution_count": 4,
     "metadata": {},
     "output_type": "execute_result"
    }
   ],
   "source": [
    "# After the shape we need to check for null\n",
    "dataframe.isnull().sum()"
   ]
  },
  {
   "cell_type": "code",
   "execution_count": 5,
   "metadata": {},
   "outputs": [
    {
     "data": {
      "text/html": [
       "<div>\n",
       "<style scoped>\n",
       "    .dataframe tbody tr th:only-of-type {\n",
       "        vertical-align: middle;\n",
       "    }\n",
       "\n",
       "    .dataframe tbody tr th {\n",
       "        vertical-align: top;\n",
       "    }\n",
       "\n",
       "    .dataframe thead th {\n",
       "        text-align: right;\n",
       "    }\n",
       "</style>\n",
       "<table border=\"1\" class=\"dataframe\">\n",
       "  <thead>\n",
       "    <tr style=\"text-align: right;\">\n",
       "      <th></th>\n",
       "      <th>Titre</th>\n",
       "      <th>Username</th>\n",
       "      <th>Rate</th>\n",
       "      <th>Review</th>\n",
       "      <th>Content</th>\n",
       "    </tr>\n",
       "  </thead>\n",
       "  <tbody>\n",
       "    <tr>\n",
       "      <th>903</th>\n",
       "      <td>The Station Agent</td>\n",
       "      <td>NaN</td>\n",
       "      <td>\\n\\n\\n\\n\\n\\n8/10\\n</td>\n",
       "      <td>Size matters\\n</td>\n",
       "      <td>\"The Station Agent\" is a slice-of-dwarf-life c...</td>\n",
       "    </tr>\n",
       "    <tr>\n",
       "      <th>3406</th>\n",
       "      <td>Donnie Brasco</td>\n",
       "      <td>NaN</td>\n",
       "      <td>\\n\\n\\n\\n\\n\\n7/10\\n</td>\n",
       "      <td>Not bad, not great.\\n</td>\n",
       "      <td>\"Donnie Brasco\" tells of an FBI agent (Depp) w...</td>\n",
       "    </tr>\n",
       "    <tr>\n",
       "      <th>3746</th>\n",
       "      <td>The Count of Monte Cristo</td>\n",
       "      <td>NaN</td>\n",
       "      <td>\\n\\n\\n\\n\\n\\n8/10\\n</td>\n",
       "      <td>The Count rides again.\\n</td>\n",
       "      <td>\"The Count of Monte Cristo\" (2002), a contempo...</td>\n",
       "    </tr>\n",
       "    <tr>\n",
       "      <th>7174</th>\n",
       "      <td>Remember the Titans</td>\n",
       "      <td>NaN</td>\n",
       "      <td>\\n\\n\\n\\n\\n\\n7/10\\n</td>\n",
       "      <td>Predictable but solid \"feel good\" football en...</td>\n",
       "      <td>\"Remember the Titans\" tells about a black foot...</td>\n",
       "    </tr>\n",
       "    <tr>\n",
       "      <th>7207</th>\n",
       "      <td>Gongdong gyeongbi guyeok JSA</td>\n",
       "      <td>NaN</td>\n",
       "      <td>\\n\\n\\n\\n\\n\\n6/10\\n</td>\n",
       "      <td>A movie with a latitude\\n</td>\n",
       "      <td>\"Joint Security Area\" takes place entirely at ...</td>\n",
       "    </tr>\n",
       "    <tr>\n",
       "      <th>10310</th>\n",
       "      <td>Once Were Warriors</td>\n",
       "      <td>NaN</td>\n",
       "      <td>\\n\\n\\n\\n\\n\\n8/10\\n</td>\n",
       "      <td>A great film\\n</td>\n",
       "      <td>\"Once Were Warriors\" tells of one woman's stru...</td>\n",
       "    </tr>\n",
       "    <tr>\n",
       "      <th>10543</th>\n",
       "      <td>Almost Famous</td>\n",
       "      <td>NaN</td>\n",
       "      <td>\\n\\n\\n\\n\\n\\n7/10\\n</td>\n",
       "      <td>An enjoyable blend of humor, drama-lite, and ...</td>\n",
       "      <td>\"Almost Famous\" tells of a 15 year old prodigy...</td>\n",
       "    </tr>\n",
       "    <tr>\n",
       "      <th>10604</th>\n",
       "      <td>Nueve reinas</td>\n",
       "      <td>NaN</td>\n",
       "      <td>\\n\\n\\n\\n\\n\\n6/10\\n</td>\n",
       "      <td>Here a scam, there a scam, everywhere a scam-...</td>\n",
       "      <td>Scamming is the name of the game in \"Nine Quee...</td>\n",
       "    </tr>\n",
       "    <tr>\n",
       "      <th>10657</th>\n",
       "      <td>No Man's Land</td>\n",
       "      <td>NaN</td>\n",
       "      <td>\\n\\n\\n\\n\\n\\n6/10\\n</td>\n",
       "      <td>Good journeyman war satire slightly over-tout...</td>\n",
       "      <td>\"No Man's Land\" is a satirical representation ...</td>\n",
       "    </tr>\n",
       "    <tr>\n",
       "      <th>13337</th>\n",
       "      <td>La leggenda del pianista sull'oceano</td>\n",
       "      <td>NaN</td>\n",
       "      <td>\\n\\n\\n\\n\\n\\n8/10\\n</td>\n",
       "      <td>A wonderfully wistful mixture of melodrama an...</td>\n",
       "      <td>\"The Legend of 1900\" wistfully tells its creat...</td>\n",
       "    </tr>\n",
       "  </tbody>\n",
       "</table>\n",
       "</div>"
      ],
      "text/plain": [
       "                                      Titre Username                Rate  \\\n",
       "903                       The Station Agent      NaN  \\n\\n\\n\\n\\n\\n8/10\\n   \n",
       "3406                          Donnie Brasco      NaN  \\n\\n\\n\\n\\n\\n7/10\\n   \n",
       "3746              The Count of Monte Cristo      NaN  \\n\\n\\n\\n\\n\\n8/10\\n   \n",
       "7174                    Remember the Titans      NaN  \\n\\n\\n\\n\\n\\n7/10\\n   \n",
       "7207           Gongdong gyeongbi guyeok JSA      NaN  \\n\\n\\n\\n\\n\\n6/10\\n   \n",
       "10310                    Once Were Warriors      NaN  \\n\\n\\n\\n\\n\\n8/10\\n   \n",
       "10543                         Almost Famous      NaN  \\n\\n\\n\\n\\n\\n7/10\\n   \n",
       "10604                          Nueve reinas      NaN  \\n\\n\\n\\n\\n\\n6/10\\n   \n",
       "10657                         No Man's Land      NaN  \\n\\n\\n\\n\\n\\n6/10\\n   \n",
       "13337  La leggenda del pianista sull'oceano      NaN  \\n\\n\\n\\n\\n\\n8/10\\n   \n",
       "\n",
       "                                                  Review  \\\n",
       "903                                       Size matters\\n   \n",
       "3406                               Not bad, not great.\\n   \n",
       "3746                            The Count rides again.\\n   \n",
       "7174    Predictable but solid \"feel good\" football en...   \n",
       "7207                           A movie with a latitude\\n   \n",
       "10310                                     A great film\\n   \n",
       "10543   An enjoyable blend of humor, drama-lite, and ...   \n",
       "10604   Here a scam, there a scam, everywhere a scam-...   \n",
       "10657   Good journeyman war satire slightly over-tout...   \n",
       "13337   A wonderfully wistful mixture of melodrama an...   \n",
       "\n",
       "                                                 Content  \n",
       "903    \"The Station Agent\" is a slice-of-dwarf-life c...  \n",
       "3406   \"Donnie Brasco\" tells of an FBI agent (Depp) w...  \n",
       "3746   \"The Count of Monte Cristo\" (2002), a contempo...  \n",
       "7174   \"Remember the Titans\" tells about a black foot...  \n",
       "7207   \"Joint Security Area\" takes place entirely at ...  \n",
       "10310  \"Once Were Warriors\" tells of one woman's stru...  \n",
       "10543  \"Almost Famous\" tells of a 15 year old prodigy...  \n",
       "10604  Scamming is the name of the game in \"Nine Quee...  \n",
       "10657  \"No Man's Land\" is a satirical representation ...  \n",
       "13337  \"The Legend of 1900\" wistfully tells its creat...  "
      ]
     },
     "execution_count": 5,
     "metadata": {},
     "output_type": "execute_result"
    }
   ],
   "source": [
    "dataframe.loc[dataframe[\"Username\"].isnull()]"
   ]
  },
  {
   "cell_type": "code",
   "execution_count": 6,
   "metadata": {},
   "outputs": [
    {
     "data": {
      "text/html": [
       "<div>\n",
       "<style scoped>\n",
       "    .dataframe tbody tr th:only-of-type {\n",
       "        vertical-align: middle;\n",
       "    }\n",
       "\n",
       "    .dataframe tbody tr th {\n",
       "        vertical-align: top;\n",
       "    }\n",
       "\n",
       "    .dataframe thead th {\n",
       "        text-align: right;\n",
       "    }\n",
       "</style>\n",
       "<table border=\"1\" class=\"dataframe\">\n",
       "  <thead>\n",
       "    <tr style=\"text-align: right;\">\n",
       "      <th></th>\n",
       "      <th>Titre</th>\n",
       "      <th>Username</th>\n",
       "      <th>Rate</th>\n",
       "      <th>Review</th>\n",
       "      <th>Content</th>\n",
       "    </tr>\n",
       "  </thead>\n",
       "  <tbody>\n",
       "    <tr>\n",
       "      <th>0</th>\n",
       "      <td>The Invisible Man</td>\n",
       "      <td>ccthemovieman-1</td>\n",
       "      <td>\\n\\n\\n\\n\\n\\n6/10\\n</td>\n",
       "      <td>Film Still Holds Up, Is Fun Except For Shriek...</td>\n",
       "      <td>This was great the first time I watched it, bu...</td>\n",
       "    </tr>\n",
       "    <tr>\n",
       "      <th>1</th>\n",
       "      <td>The Invisible Man</td>\n",
       "      <td>The_Void</td>\n",
       "      <td>\\n\\n\\n\\n\\n\\n9/10\\n</td>\n",
       "      <td>Visibly stunning!!!\\n</td>\n",
       "      <td>James Whale is, for good reason, most famous f...</td>\n",
       "    </tr>\n",
       "    <tr>\n",
       "      <th>2</th>\n",
       "      <td>The Invisible Man</td>\n",
       "      <td>TimViper1</td>\n",
       "      <td>\\n\\n\\n\\n\\n\\n10/10\\n</td>\n",
       "      <td>Tremendous!\\n</td>\n",
       "      <td>This is definitely one of the best horror/sci-...</td>\n",
       "    </tr>\n",
       "    <tr>\n",
       "      <th>3</th>\n",
       "      <td>The Invisible Man</td>\n",
       "      <td>perfectbond</td>\n",
       "      <td>\\n\\n\\n\\n\\n\\n8/10\\n</td>\n",
       "      <td>Classic horror\\n</td>\n",
       "      <td>I actually saw The Invisible Man (1933) shortl...</td>\n",
       "    </tr>\n",
       "    <tr>\n",
       "      <th>4</th>\n",
       "      <td>The Invisible Man</td>\n",
       "      <td>theowinthrop</td>\n",
       "      <td>\\n\\n\\n\\n\\n\\n10/10\\n</td>\n",
       "      <td>To make the world grovel at his feet.\\n</td>\n",
       "      <td>Spoiler ahead - a well known one though.It was...</td>\n",
       "    </tr>\n",
       "  </tbody>\n",
       "</table>\n",
       "</div>"
      ],
      "text/plain": [
       "               Titre         Username                 Rate  \\\n",
       "0  The Invisible Man  ccthemovieman-1   \\n\\n\\n\\n\\n\\n6/10\\n   \n",
       "1  The Invisible Man         The_Void   \\n\\n\\n\\n\\n\\n9/10\\n   \n",
       "2  The Invisible Man        TimViper1  \\n\\n\\n\\n\\n\\n10/10\\n   \n",
       "3  The Invisible Man      perfectbond   \\n\\n\\n\\n\\n\\n8/10\\n   \n",
       "4  The Invisible Man     theowinthrop  \\n\\n\\n\\n\\n\\n10/10\\n   \n",
       "\n",
       "                                              Review  \\\n",
       "0   Film Still Holds Up, Is Fun Except For Shriek...   \n",
       "1                              Visibly stunning!!!\\n   \n",
       "2                                      Tremendous!\\n   \n",
       "3                                   Classic horror\\n   \n",
       "4            To make the world grovel at his feet.\\n   \n",
       "\n",
       "                                             Content  \n",
       "0  This was great the first time I watched it, bu...  \n",
       "1  James Whale is, for good reason, most famous f...  \n",
       "2  This is definitely one of the best horror/sci-...  \n",
       "3  I actually saw The Invisible Man (1933) shortl...  \n",
       "4  Spoiler ahead - a well known one though.It was...  "
      ]
     },
     "execution_count": 6,
     "metadata": {},
     "output_type": "execute_result"
    }
   ],
   "source": [
    "df = dataframe.dropna(axis=0,how='any')\n",
    "df.head()"
   ]
  },
  {
   "cell_type": "code",
   "execution_count": 7,
   "metadata": {},
   "outputs": [
    {
     "data": {
      "text/plain": [
       "Titre       0\n",
       "Username    0\n",
       "Rate        0\n",
       "Review      0\n",
       "Content     0\n",
       "dtype: int64"
      ]
     },
     "execution_count": 7,
     "metadata": {},
     "output_type": "execute_result"
    }
   ],
   "source": [
    "df.isnull().sum()"
   ]
  },
  {
   "cell_type": "code",
   "execution_count": 8,
   "metadata": {},
   "outputs": [
    {
     "data": {
      "text/plain": [
       "Titre       object\n",
       "Username    object\n",
       "Rate        object\n",
       "Review      object\n",
       "Content     object\n",
       "dtype: object"
      ]
     },
     "execution_count": 8,
     "metadata": {},
     "output_type": "execute_result"
    }
   ],
   "source": [
    "df.dtypes"
   ]
  },
  {
   "cell_type": "code",
   "execution_count": 9,
   "metadata": {},
   "outputs": [
    {
     "name": "stderr",
     "output_type": "stream",
     "text": [
      "<ipython-input-9-258f0a9340f9>:1: SettingWithCopyWarning: \n",
      "A value is trying to be set on a copy of a slice from a DataFrame.\n",
      "Try using .loc[row_indexer,col_indexer] = value instead\n",
      "\n",
      "See the caveats in the documentation: https://pandas.pydata.org/pandas-docs/stable/user_guide/indexing.html#returning-a-view-versus-a-copy\n",
      "  df['Review'] = df['Review'].str.replace('\\n', '')\n",
      "<ipython-input-9-258f0a9340f9>:2: SettingWithCopyWarning: \n",
      "A value is trying to be set on a copy of a slice from a DataFrame.\n",
      "Try using .loc[row_indexer,col_indexer] = value instead\n",
      "\n",
      "See the caveats in the documentation: https://pandas.pydata.org/pandas-docs/stable/user_guide/indexing.html#returning-a-view-versus-a-copy\n",
      "  df['Rate'] = df['Rate'].str.replace('\\n', '')\n",
      "<ipython-input-9-258f0a9340f9>:3: SettingWithCopyWarning: \n",
      "A value is trying to be set on a copy of a slice from a DataFrame.\n",
      "Try using .loc[row_indexer,col_indexer] = value instead\n",
      "\n",
      "See the caveats in the documentation: https://pandas.pydata.org/pandas-docs/stable/user_guide/indexing.html#returning-a-view-versus-a-copy\n",
      "  df['Rate'] = df['Rate'].str.replace('/10', '')\n",
      "<ipython-input-9-258f0a9340f9>:4: SettingWithCopyWarning: \n",
      "A value is trying to be set on a copy of a slice from a DataFrame.\n",
      "Try using .loc[row_indexer,col_indexer] = value instead\n",
      "\n",
      "See the caveats in the documentation: https://pandas.pydata.org/pandas-docs/stable/user_guide/indexing.html#returning-a-view-versus-a-copy\n",
      "  df['Rate'] = df['Rate'].astype(int)\n",
      "<ipython-input-9-258f0a9340f9>:10: SettingWithCopyWarning: \n",
      "A value is trying to be set on a copy of a slice from a DataFrame.\n",
      "Try using .loc[row_indexer,col_indexer] = value instead\n",
      "\n",
      "See the caveats in the documentation: https://pandas.pydata.org/pandas-docs/stable/user_guide/indexing.html#returning-a-view-versus-a-copy\n",
      "  df['Content'] = df['Content'].str.replace(r'[^\\w\\s]+', '')\n",
      "<ipython-input-9-258f0a9340f9>:11: SettingWithCopyWarning: \n",
      "A value is trying to be set on a copy of a slice from a DataFrame.\n",
      "Try using .loc[row_indexer,col_indexer] = value instead\n",
      "\n",
      "See the caveats in the documentation: https://pandas.pydata.org/pandas-docs/stable/user_guide/indexing.html#returning-a-view-versus-a-copy\n",
      "  df['Review'] = df['Review'].str.replace(r'[^\\w\\s]+', '')\n"
     ]
    }
   ],
   "source": [
    "df['Review'] = df['Review'].str.replace('\\n', '')\n",
    "df['Rate'] = df['Rate'].str.replace('\\n', '')\n",
    "df['Rate'] = df['Rate'].str.replace('/10', '')\n",
    "df['Rate'] = df['Rate'].astype(int)\n",
    "\n",
    "\n",
    "\n",
    "\n",
    "#convert the letter into lowercase and remove punctuations\n",
    "df['Content'] = df['Content'].str.replace(r'[^\\w\\s]+', '')\n",
    "df['Review'] = df['Review'].str.replace(r'[^\\w\\s]+', '')\n",
    "\n",
    "\n",
    "\n",
    "\n"
   ]
  },
  {
   "cell_type": "code",
   "execution_count": 10,
   "metadata": {},
   "outputs": [
    {
     "name": "stderr",
     "output_type": "stream",
     "text": [
      "<ipython-input-10-94c96a0958a6>:1: SettingWithCopyWarning: \n",
      "A value is trying to be set on a copy of a slice from a DataFrame.\n",
      "Try using .loc[row_indexer,col_indexer] = value instead\n",
      "\n",
      "See the caveats in the documentation: https://pandas.pydata.org/pandas-docs/stable/user_guide/indexing.html#returning-a-view-versus-a-copy\n",
      "  df['Review'] = df['Review'].str.lower()\n",
      "<ipython-input-10-94c96a0958a6>:2: SettingWithCopyWarning: \n",
      "A value is trying to be set on a copy of a slice from a DataFrame.\n",
      "Try using .loc[row_indexer,col_indexer] = value instead\n",
      "\n",
      "See the caveats in the documentation: https://pandas.pydata.org/pandas-docs/stable/user_guide/indexing.html#returning-a-view-versus-a-copy\n",
      "  df['Content'] = df['Content'].str.lower()\n"
     ]
    }
   ],
   "source": [
    "df['Review'] = df['Review'].str.lower()\n",
    "df['Content'] = df['Content'].str.lower()"
   ]
  },
  {
   "cell_type": "code",
   "execution_count": 11,
   "metadata": {},
   "outputs": [
    {
     "data": {
      "text/plain": [
       "Titre       object\n",
       "Username    object\n",
       "Rate         int32\n",
       "Review      object\n",
       "Content     object\n",
       "dtype: object"
      ]
     },
     "execution_count": 11,
     "metadata": {},
     "output_type": "execute_result"
    }
   ],
   "source": [
    "df.dtypes"
   ]
  },
  {
   "cell_type": "code",
   "execution_count": 12,
   "metadata": {},
   "outputs": [
    {
     "data": {
      "text/html": [
       "<div>\n",
       "<style scoped>\n",
       "    .dataframe tbody tr th:only-of-type {\n",
       "        vertical-align: middle;\n",
       "    }\n",
       "\n",
       "    .dataframe tbody tr th {\n",
       "        vertical-align: top;\n",
       "    }\n",
       "\n",
       "    .dataframe thead th {\n",
       "        text-align: right;\n",
       "    }\n",
       "</style>\n",
       "<table border=\"1\" class=\"dataframe\">\n",
       "  <thead>\n",
       "    <tr style=\"text-align: right;\">\n",
       "      <th></th>\n",
       "      <th>Titre</th>\n",
       "      <th>Username</th>\n",
       "      <th>Rate</th>\n",
       "      <th>Review</th>\n",
       "      <th>Content</th>\n",
       "    </tr>\n",
       "  </thead>\n",
       "  <tbody>\n",
       "    <tr>\n",
       "      <th>0</th>\n",
       "      <td>The Invisible Man</td>\n",
       "      <td>ccthemovieman-1</td>\n",
       "      <td>6</td>\n",
       "      <td>film still holds up is fun except for shrieker</td>\n",
       "      <td>this was great the first time i watched it but...</td>\n",
       "    </tr>\n",
       "    <tr>\n",
       "      <th>1</th>\n",
       "      <td>The Invisible Man</td>\n",
       "      <td>The_Void</td>\n",
       "      <td>9</td>\n",
       "      <td>visibly stunning</td>\n",
       "      <td>james whale is for good reason most famous for...</td>\n",
       "    </tr>\n",
       "    <tr>\n",
       "      <th>2</th>\n",
       "      <td>The Invisible Man</td>\n",
       "      <td>TimViper1</td>\n",
       "      <td>10</td>\n",
       "      <td>tremendous</td>\n",
       "      <td>this is definitely one of the best horrorscifi...</td>\n",
       "    </tr>\n",
       "    <tr>\n",
       "      <th>3</th>\n",
       "      <td>The Invisible Man</td>\n",
       "      <td>perfectbond</td>\n",
       "      <td>8</td>\n",
       "      <td>classic horror</td>\n",
       "      <td>i actually saw the invisible man 1933 shortly ...</td>\n",
       "    </tr>\n",
       "    <tr>\n",
       "      <th>4</th>\n",
       "      <td>The Invisible Man</td>\n",
       "      <td>theowinthrop</td>\n",
       "      <td>10</td>\n",
       "      <td>to make the world grovel at his feet</td>\n",
       "      <td>spoiler ahead  a well known one thoughit was h...</td>\n",
       "    </tr>\n",
       "  </tbody>\n",
       "</table>\n",
       "</div>"
      ],
      "text/plain": [
       "               Titre         Username  Rate  \\\n",
       "0  The Invisible Man  ccthemovieman-1     6   \n",
       "1  The Invisible Man         The_Void     9   \n",
       "2  The Invisible Man        TimViper1    10   \n",
       "3  The Invisible Man      perfectbond     8   \n",
       "4  The Invisible Man     theowinthrop    10   \n",
       "\n",
       "                                            Review  \\\n",
       "0   film still holds up is fun except for shrieker   \n",
       "1                                 visibly stunning   \n",
       "2                                       tremendous   \n",
       "3                                   classic horror   \n",
       "4             to make the world grovel at his feet   \n",
       "\n",
       "                                             Content  \n",
       "0  this was great the first time i watched it but...  \n",
       "1  james whale is for good reason most famous for...  \n",
       "2  this is definitely one of the best horrorscifi...  \n",
       "3  i actually saw the invisible man 1933 shortly ...  \n",
       "4  spoiler ahead  a well known one thoughit was h...  "
      ]
     },
     "execution_count": 12,
     "metadata": {},
     "output_type": "execute_result"
    }
   ],
   "source": [
    "df.head()"
   ]
  },
  {
   "cell_type": "code",
   "execution_count": 13,
   "metadata": {},
   "outputs": [
    {
     "data": {
      "text/plain": [
       "10    6428\n",
       "1     4902\n",
       "9     2784\n",
       "8     1887\n",
       "5     1204\n",
       "3     1139\n",
       "2     1113\n",
       "4     1090\n",
       "6      971\n",
       "7      814\n",
       "Name: Rate, dtype: int64"
      ]
     },
     "execution_count": 13,
     "metadata": {},
     "output_type": "execute_result"
    }
   ],
   "source": [
    "df[\"Rate\"].value_counts()"
   ]
  },
  {
   "cell_type": "code",
   "execution_count": 14,
   "metadata": {},
   "outputs": [
    {
     "name": "stderr",
     "output_type": "stream",
     "text": [
      "<ipython-input-14-f71ede2f862e>:1: SettingWithCopyWarning: \n",
      "A value is trying to be set on a copy of a slice from a DataFrame.\n",
      "Try using .loc[row_indexer,col_indexer] = value instead\n",
      "\n",
      "See the caveats in the documentation: https://pandas.pydata.org/pandas-docs/stable/user_guide/indexing.html#returning-a-view-versus-a-copy\n",
      "  df[\"Sentiment\"]= np.where(df[\"Rate\"]>6, \"positive\",\"negative\")\n"
     ]
    }
   ],
   "source": [
    "df[\"Sentiment\"]= np.where(df[\"Rate\"]>6, \"positive\",\"negative\")"
   ]
  },
  {
   "cell_type": "code",
   "execution_count": 15,
   "metadata": {},
   "outputs": [
    {
     "data": {
      "text/html": [
       "<div>\n",
       "<style scoped>\n",
       "    .dataframe tbody tr th:only-of-type {\n",
       "        vertical-align: middle;\n",
       "    }\n",
       "\n",
       "    .dataframe tbody tr th {\n",
       "        vertical-align: top;\n",
       "    }\n",
       "\n",
       "    .dataframe thead th {\n",
       "        text-align: right;\n",
       "    }\n",
       "</style>\n",
       "<table border=\"1\" class=\"dataframe\">\n",
       "  <thead>\n",
       "    <tr style=\"text-align: right;\">\n",
       "      <th></th>\n",
       "      <th>Titre</th>\n",
       "      <th>Username</th>\n",
       "      <th>Rate</th>\n",
       "      <th>Review</th>\n",
       "      <th>Content</th>\n",
       "      <th>Sentiment</th>\n",
       "    </tr>\n",
       "  </thead>\n",
       "  <tbody>\n",
       "    <tr>\n",
       "      <th>0</th>\n",
       "      <td>The Invisible Man</td>\n",
       "      <td>ccthemovieman-1</td>\n",
       "      <td>6</td>\n",
       "      <td>film still holds up is fun except for shrieker</td>\n",
       "      <td>this was great the first time i watched it but...</td>\n",
       "      <td>negative</td>\n",
       "    </tr>\n",
       "    <tr>\n",
       "      <th>1</th>\n",
       "      <td>The Invisible Man</td>\n",
       "      <td>The_Void</td>\n",
       "      <td>9</td>\n",
       "      <td>visibly stunning</td>\n",
       "      <td>james whale is for good reason most famous for...</td>\n",
       "      <td>positive</td>\n",
       "    </tr>\n",
       "    <tr>\n",
       "      <th>2</th>\n",
       "      <td>The Invisible Man</td>\n",
       "      <td>TimViper1</td>\n",
       "      <td>10</td>\n",
       "      <td>tremendous</td>\n",
       "      <td>this is definitely one of the best horrorscifi...</td>\n",
       "      <td>positive</td>\n",
       "    </tr>\n",
       "    <tr>\n",
       "      <th>3</th>\n",
       "      <td>The Invisible Man</td>\n",
       "      <td>perfectbond</td>\n",
       "      <td>8</td>\n",
       "      <td>classic horror</td>\n",
       "      <td>i actually saw the invisible man 1933 shortly ...</td>\n",
       "      <td>positive</td>\n",
       "    </tr>\n",
       "    <tr>\n",
       "      <th>4</th>\n",
       "      <td>The Invisible Man</td>\n",
       "      <td>theowinthrop</td>\n",
       "      <td>10</td>\n",
       "      <td>to make the world grovel at his feet</td>\n",
       "      <td>spoiler ahead  a well known one thoughit was h...</td>\n",
       "      <td>positive</td>\n",
       "    </tr>\n",
       "    <tr>\n",
       "      <th>...</th>\n",
       "      <td>...</td>\n",
       "      <td>...</td>\n",
       "      <td>...</td>\n",
       "      <td>...</td>\n",
       "      <td>...</td>\n",
       "      <td>...</td>\n",
       "    </tr>\n",
       "    <tr>\n",
       "      <th>22337</th>\n",
       "      <td>The Shawshank Redemption</td>\n",
       "      <td>sicurrie</td>\n",
       "      <td>1</td>\n",
       "      <td>am i missing something</td>\n",
       "      <td>the basic story for this dreadful movie is and...</td>\n",
       "      <td>negative</td>\n",
       "    </tr>\n",
       "    <tr>\n",
       "      <th>22338</th>\n",
       "      <td>The Shawshank Redemption</td>\n",
       "      <td>Hollywd-2</td>\n",
       "      <td>1</td>\n",
       "      <td>not the greatest movie of all time</td>\n",
       "      <td>shawshank is nothing more than a fairy tale  i...</td>\n",
       "      <td>negative</td>\n",
       "    </tr>\n",
       "    <tr>\n",
       "      <th>22339</th>\n",
       "      <td>The Shawshank Redemption</td>\n",
       "      <td>RichBuck</td>\n",
       "      <td>1</td>\n",
       "      <td>most overrated film of all time</td>\n",
       "      <td>sorry folks but this movie is a c movie and no...</td>\n",
       "      <td>negative</td>\n",
       "    </tr>\n",
       "    <tr>\n",
       "      <th>22340</th>\n",
       "      <td>The Shawshank Redemption</td>\n",
       "      <td>Discern</td>\n",
       "      <td>1</td>\n",
       "      <td>after a big buildup a real disappointment</td>\n",
       "      <td>after reading all the rave reviews for this mo...</td>\n",
       "      <td>negative</td>\n",
       "    </tr>\n",
       "    <tr>\n",
       "      <th>22341</th>\n",
       "      <td>The Shawshank Redemption</td>\n",
       "      <td>lukemccaine</td>\n",
       "      <td>1</td>\n",
       "      <td>the plain  simple truth it doesnt deserve to ...</td>\n",
       "      <td>just read the title tough i think its a pretty...</td>\n",
       "      <td>negative</td>\n",
       "    </tr>\n",
       "  </tbody>\n",
       "</table>\n",
       "<p>22332 rows × 6 columns</p>\n",
       "</div>"
      ],
      "text/plain": [
       "                          Titre         Username  Rate  \\\n",
       "0             The Invisible Man  ccthemovieman-1     6   \n",
       "1             The Invisible Man         The_Void     9   \n",
       "2             The Invisible Man        TimViper1    10   \n",
       "3             The Invisible Man      perfectbond     8   \n",
       "4             The Invisible Man     theowinthrop    10   \n",
       "...                         ...              ...   ...   \n",
       "22337  The Shawshank Redemption         sicurrie     1   \n",
       "22338  The Shawshank Redemption        Hollywd-2     1   \n",
       "22339  The Shawshank Redemption         RichBuck     1   \n",
       "22340  The Shawshank Redemption          Discern     1   \n",
       "22341  The Shawshank Redemption      lukemccaine     1   \n",
       "\n",
       "                                                  Review  \\\n",
       "0         film still holds up is fun except for shrieker   \n",
       "1                                       visibly stunning   \n",
       "2                                             tremendous   \n",
       "3                                         classic horror   \n",
       "4                   to make the world grovel at his feet   \n",
       "...                                                  ...   \n",
       "22337                             am i missing something   \n",
       "22338                 not the greatest movie of all time   \n",
       "22339                    most overrated film of all time   \n",
       "22340          after a big buildup a real disappointment   \n",
       "22341   the plain  simple truth it doesnt deserve to ...   \n",
       "\n",
       "                                                 Content Sentiment  \n",
       "0      this was great the first time i watched it but...  negative  \n",
       "1      james whale is for good reason most famous for...  positive  \n",
       "2      this is definitely one of the best horrorscifi...  positive  \n",
       "3      i actually saw the invisible man 1933 shortly ...  positive  \n",
       "4      spoiler ahead  a well known one thoughit was h...  positive  \n",
       "...                                                  ...       ...  \n",
       "22337  the basic story for this dreadful movie is and...  negative  \n",
       "22338  shawshank is nothing more than a fairy tale  i...  negative  \n",
       "22339  sorry folks but this movie is a c movie and no...  negative  \n",
       "22340  after reading all the rave reviews for this mo...  negative  \n",
       "22341  just read the title tough i think its a pretty...  negative  \n",
       "\n",
       "[22332 rows x 6 columns]"
      ]
     },
     "execution_count": 15,
     "metadata": {},
     "output_type": "execute_result"
    }
   ],
   "source": [
    "df"
   ]
  },
  {
   "cell_type": "code",
   "execution_count": 16,
   "metadata": {},
   "outputs": [
    {
     "data": {
      "text/plain": [
       "positive    11913\n",
       "negative    10419\n",
       "Name: Sentiment, dtype: int64"
      ]
     },
     "execution_count": 16,
     "metadata": {},
     "output_type": "execute_result"
    }
   ],
   "source": [
    "df[\"Sentiment\"].value_counts()"
   ]
  },
  {
   "cell_type": "code",
   "execution_count": null,
   "metadata": {},
   "outputs": [],
   "source": []
  },
  {
   "cell_type": "code",
   "execution_count": null,
   "metadata": {},
   "outputs": [],
   "source": []
  },
  {
   "cell_type": "code",
   "execution_count": null,
   "metadata": {},
   "outputs": [],
   "source": []
  },
  {
   "cell_type": "code",
   "execution_count": null,
   "metadata": {},
   "outputs": [],
   "source": []
  },
  {
   "cell_type": "code",
   "execution_count": null,
   "metadata": {},
   "outputs": [],
   "source": []
  }
 ],
 "metadata": {
  "kernelspec": {
   "display_name": "Python 3",
   "language": "python",
   "name": "python3"
  },
  "language_info": {
   "codemirror_mode": {
    "name": "ipython",
    "version": 3
   },
   "file_extension": ".py",
   "mimetype": "text/x-python",
   "name": "python",
   "nbconvert_exporter": "python",
   "pygments_lexer": "ipython3",
   "version": "3.8.5"
  }
 },
 "nbformat": 4,
 "nbformat_minor": 4
}
